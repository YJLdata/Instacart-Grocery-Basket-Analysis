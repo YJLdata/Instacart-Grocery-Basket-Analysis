{
 "cells": [
  {
   "cell_type": "markdown",
   "id": "1599459a",
   "metadata": {},
   "source": [
    "# 4.9 Intro to Data Visualization with Python"
   ]
  },
  {
   "cell_type": "markdown",
   "id": "c68b9efa",
   "metadata": {},
   "source": [
    "## Part 2"
   ]
  },
  {
   "cell_type": "code",
   "execution_count": 3,
   "id": "4c143cee",
   "metadata": {},
   "outputs": [],
   "source": [
    "import pandas as pd\n",
    "import numpy as np\n",
    "import os"
   ]
  },
  {
   "cell_type": "code",
   "execution_count": 4,
   "id": "d0596b86",
   "metadata": {},
   "outputs": [],
   "source": [
    "path = r'D:\\02.2022_Instacart Basket Analysis' "
   ]
  },
  {
   "cell_type": "code",
   "execution_count": 5,
   "id": "759d3503",
   "metadata": {},
   "outputs": [],
   "source": [
    "# Due to memory error, I tried and changed some data types while reading csv files to lower the memory load. \n",
    "df_customer_check= pd.read_csv(os.path.join(path,'02 Data','Prepared Data','customer_check.csv'), index_col = 0, dtype={'user_id': 'int32','age': 'int8','n_dependants': 'int8','income': 'int32'})"
   ]
  },
  {
   "cell_type": "code",
   "execution_count": 6,
   "id": "8732c281",
   "metadata": {},
   "outputs": [
    {
     "name": "stdout",
     "output_type": "stream",
     "text": [
      "<class 'pandas.core.frame.DataFrame'>\n",
      "Int64Index: 194950 entries, 0 to 206208\n",
      "Data columns (total 9 columns):\n",
      " #   Column         Non-Null Count   Dtype \n",
      "---  ------         --------------   ----- \n",
      " 0   user_id        194950 non-null  int32 \n",
      " 1   first_name     194950 non-null  object\n",
      " 2   last_name      194950 non-null  object\n",
      " 3   gender         194950 non-null  object\n",
      " 4   state          194950 non-null  object\n",
      " 5   age            194950 non-null  int8  \n",
      " 6   n_dependants   194950 non-null  int8  \n",
      " 7   family_status  194950 non-null  object\n",
      " 8   income         194950 non-null  int32 \n",
      "dtypes: int32(2), int8(2), object(5)\n",
      "memory usage: 10.8+ MB\n"
     ]
    }
   ],
   "source": [
    "df_customer_check.info()"
   ]
  },
  {
   "cell_type": "code",
   "execution_count": 8,
   "id": "02d0abb7",
   "metadata": {},
   "outputs": [
    {
     "name": "stderr",
     "output_type": "stream",
     "text": [
      "D:\\Anaconda\\lib\\site-packages\\numpy\\lib\\arraysetops.py:583: FutureWarning: elementwise comparison failed; returning scalar instead, but in the future will perform elementwise comparison\n",
      "  mask |= (ar1 == a)\n"
     ]
    }
   ],
   "source": [
    "ords_prods_agg= pd.read_csv(os.path.join(path,'02 Data','Prepared Data','ords_prods_agg.csv'),index_col = 0,dtype={'user_id': 'int32','order_id': 'int32','order_number': 'int8','orders_day_of_week': 'int8','order_time_of_day': 'int8','product_id': 'int32','reordered': 'int8','product_id': 'int32','aisle_id': 'int8','department_id': 'int8','add_to_cart_order': 'int16','max_order': 'int16'})"
   ]
  },
  {
   "cell_type": "code",
   "execution_count": 9,
   "id": "193390cf",
   "metadata": {},
   "outputs": [
    {
     "name": "stdout",
     "output_type": "stream",
     "text": [
      "<class 'pandas.core.frame.DataFrame'>\n",
      "Int64Index: 32399727 entries, 0 to 32435058\n",
      "Data columns (total 23 columns):\n",
      " #   Column                  Dtype  \n",
      "---  ------                  -----  \n",
      " 0   order_id                int32  \n",
      " 1   user_id                 int32  \n",
      " 2   order_number            int8   \n",
      " 3   orders_day_of_week      int8   \n",
      " 4   order_time_of_day       int8   \n",
      " 5   days_since_prior_order  float64\n",
      " 6   first_order             bool   \n",
      " 7   product_id              int32  \n",
      " 8   add_to_cart_order       int16  \n",
      " 9   reordered               int8   \n",
      " 10  product_name            object \n",
      " 11  aisle_id                int8   \n",
      " 12  department_id           int8   \n",
      " 13  prices                  float64\n",
      " 14  busiest_day             object \n",
      " 15  busiest_days            object \n",
      " 16  busiest_period_of_day   object \n",
      " 17  max_order               int16  \n",
      " 18  loyalty_flag            object \n",
      " 19  spending                float64\n",
      " 20  spending_flag           object \n",
      " 21  frequency               float64\n",
      " 22  frequency_flag          object \n",
      "dtypes: bool(1), float64(4), int16(2), int32(3), int8(6), object(7)\n",
      "memory usage: 3.6+ GB\n"
     ]
    }
   ],
   "source": [
    "ords_prods_agg.info()"
   ]
  },
  {
   "cell_type": "code",
   "execution_count": 10,
   "id": "b34b46c3",
   "metadata": {},
   "outputs": [
    {
     "data": {
      "text/plain": [
       "(32399727, 23)"
      ]
     },
     "execution_count": 10,
     "metadata": {},
     "output_type": "execute_result"
    }
   ],
   "source": [
    "ords_prods_agg.shape"
   ]
  },
  {
   "cell_type": "markdown",
   "id": "31d3a5b6",
   "metadata": {},
   "source": [
    "### (4.) Combine your customer data with the rest of your prepared Instacart data. Tip: Make sure the key columns are of the same data type! Hint: Make sure the key columns are the same data type!"
   ]
  },
  {
   "cell_type": "code",
   "execution_count": 11,
   "id": "87fceea3",
   "metadata": {},
   "outputs": [],
   "source": [
    "df_test = pd.merge(df_customer_check,ords_prods_agg, left_on = \"user_id\", right_on = \"user_id\")"
   ]
  },
  {
   "cell_type": "code",
   "execution_count": 12,
   "id": "051407a1",
   "metadata": {},
   "outputs": [
    {
     "data": {
      "text/plain": [
       "(30624955, 31)"
      ]
     },
     "execution_count": 12,
     "metadata": {},
     "output_type": "execute_result"
    }
   ],
   "source": [
    "df_test.shape"
   ]
  },
  {
   "cell_type": "code",
   "execution_count": 13,
   "id": "50acc7a9",
   "metadata": {},
   "outputs": [
    {
     "name": "stdout",
     "output_type": "stream",
     "text": [
      "<class 'pandas.core.frame.DataFrame'>\n",
      "Int64Index: 30624955 entries, 0 to 30624954\n",
      "Data columns (total 31 columns):\n",
      " #   Column                  Dtype  \n",
      "---  ------                  -----  \n",
      " 0   user_id                 int32  \n",
      " 1   first_name              object \n",
      " 2   last_name               object \n",
      " 3   gender                  object \n",
      " 4   state                   object \n",
      " 5   age                     int8   \n",
      " 6   n_dependants            int8   \n",
      " 7   family_status           object \n",
      " 8   income                  int32  \n",
      " 9   order_id                int32  \n",
      " 10  order_number            int8   \n",
      " 11  orders_day_of_week      int8   \n",
      " 12  order_time_of_day       int8   \n",
      " 13  days_since_prior_order  float64\n",
      " 14  first_order             bool   \n",
      " 15  product_id              int32  \n",
      " 16  add_to_cart_order       int16  \n",
      " 17  reordered               int8   \n",
      " 18  product_name            object \n",
      " 19  aisle_id                int8   \n",
      " 20  department_id           int8   \n",
      " 21  prices                  float64\n",
      " 22  busiest_day             object \n",
      " 23  busiest_days            object \n",
      " 24  busiest_period_of_day   object \n",
      " 25  max_order               int16  \n",
      " 26  loyalty_flag            object \n",
      " 27  spending                float64\n",
      " 28  spending_flag           object \n",
      " 29  frequency               float64\n",
      " 30  frequency_flag          object \n",
      "dtypes: bool(1), float64(4), int16(2), int32(4), int8(8), object(12)\n",
      "memory usage: 4.7+ GB\n"
     ]
    }
   ],
   "source": [
    "df_test.info()"
   ]
  },
  {
   "cell_type": "code",
   "execution_count": 14,
   "id": "67c420ed",
   "metadata": {},
   "outputs": [
    {
     "data": {
      "text/html": [
       "<div>\n",
       "<style scoped>\n",
       "    .dataframe tbody tr th:only-of-type {\n",
       "        vertical-align: middle;\n",
       "    }\n",
       "\n",
       "    .dataframe tbody tr th {\n",
       "        vertical-align: top;\n",
       "    }\n",
       "\n",
       "    .dataframe thead th {\n",
       "        text-align: right;\n",
       "    }\n",
       "</style>\n",
       "<table border=\"1\" class=\"dataframe\">\n",
       "  <thead>\n",
       "    <tr style=\"text-align: right;\">\n",
       "      <th></th>\n",
       "      <th>user_id</th>\n",
       "      <th>first_name</th>\n",
       "      <th>last_name</th>\n",
       "      <th>gender</th>\n",
       "      <th>state</th>\n",
       "      <th>age</th>\n",
       "      <th>n_dependants</th>\n",
       "      <th>family_status</th>\n",
       "      <th>income</th>\n",
       "      <th>order_id</th>\n",
       "      <th>...</th>\n",
       "      <th>prices</th>\n",
       "      <th>busiest_day</th>\n",
       "      <th>busiest_days</th>\n",
       "      <th>busiest_period_of_day</th>\n",
       "      <th>max_order</th>\n",
       "      <th>loyalty_flag</th>\n",
       "      <th>spending</th>\n",
       "      <th>spending_flag</th>\n",
       "      <th>frequency</th>\n",
       "      <th>frequency_flag</th>\n",
       "    </tr>\n",
       "  </thead>\n",
       "  <tbody>\n",
       "    <tr>\n",
       "      <th>0</th>\n",
       "      <td>26711</td>\n",
       "      <td>Deborah</td>\n",
       "      <td>Esquivel</td>\n",
       "      <td>Female</td>\n",
       "      <td>Missouri</td>\n",
       "      <td>48</td>\n",
       "      <td>3</td>\n",
       "      <td>married</td>\n",
       "      <td>165665</td>\n",
       "      <td>2543867</td>\n",
       "      <td>...</td>\n",
       "      <td>9.0</td>\n",
       "      <td>Regularly busy</td>\n",
       "      <td>Busiest days</td>\n",
       "      <td>Average orders</td>\n",
       "      <td>8</td>\n",
       "      <td>New customer</td>\n",
       "      <td>7.99</td>\n",
       "      <td>Low spender</td>\n",
       "      <td>19.0</td>\n",
       "      <td>Regular customer</td>\n",
       "    </tr>\n",
       "    <tr>\n",
       "      <th>1</th>\n",
       "      <td>26711</td>\n",
       "      <td>Deborah</td>\n",
       "      <td>Esquivel</td>\n",
       "      <td>Female</td>\n",
       "      <td>Missouri</td>\n",
       "      <td>48</td>\n",
       "      <td>3</td>\n",
       "      <td>married</td>\n",
       "      <td>165665</td>\n",
       "      <td>1285508</td>\n",
       "      <td>...</td>\n",
       "      <td>9.0</td>\n",
       "      <td>Regularly busy</td>\n",
       "      <td>Regularly busy</td>\n",
       "      <td>Most orders</td>\n",
       "      <td>8</td>\n",
       "      <td>New customer</td>\n",
       "      <td>7.99</td>\n",
       "      <td>Low spender</td>\n",
       "      <td>19.0</td>\n",
       "      <td>Regular customer</td>\n",
       "    </tr>\n",
       "    <tr>\n",
       "      <th>2</th>\n",
       "      <td>26711</td>\n",
       "      <td>Deborah</td>\n",
       "      <td>Esquivel</td>\n",
       "      <td>Female</td>\n",
       "      <td>Missouri</td>\n",
       "      <td>48</td>\n",
       "      <td>3</td>\n",
       "      <td>married</td>\n",
       "      <td>165665</td>\n",
       "      <td>2578584</td>\n",
       "      <td>...</td>\n",
       "      <td>9.0</td>\n",
       "      <td>Regularly busy</td>\n",
       "      <td>Busiest days</td>\n",
       "      <td>Most orders</td>\n",
       "      <td>8</td>\n",
       "      <td>New customer</td>\n",
       "      <td>7.99</td>\n",
       "      <td>Low spender</td>\n",
       "      <td>19.0</td>\n",
       "      <td>Regular customer</td>\n",
       "    </tr>\n",
       "    <tr>\n",
       "      <th>3</th>\n",
       "      <td>26711</td>\n",
       "      <td>Deborah</td>\n",
       "      <td>Esquivel</td>\n",
       "      <td>Female</td>\n",
       "      <td>Missouri</td>\n",
       "      <td>48</td>\n",
       "      <td>3</td>\n",
       "      <td>married</td>\n",
       "      <td>165665</td>\n",
       "      <td>423547</td>\n",
       "      <td>...</td>\n",
       "      <td>12.6</td>\n",
       "      <td>Regularly busy</td>\n",
       "      <td>Regularly busy</td>\n",
       "      <td>Average orders</td>\n",
       "      <td>8</td>\n",
       "      <td>New customer</td>\n",
       "      <td>7.99</td>\n",
       "      <td>Low spender</td>\n",
       "      <td>19.0</td>\n",
       "      <td>Regular customer</td>\n",
       "    </tr>\n",
       "    <tr>\n",
       "      <th>4</th>\n",
       "      <td>26711</td>\n",
       "      <td>Deborah</td>\n",
       "      <td>Esquivel</td>\n",
       "      <td>Female</td>\n",
       "      <td>Missouri</td>\n",
       "      <td>48</td>\n",
       "      <td>3</td>\n",
       "      <td>married</td>\n",
       "      <td>165665</td>\n",
       "      <td>2524893</td>\n",
       "      <td>...</td>\n",
       "      <td>12.6</td>\n",
       "      <td>Regularly busy</td>\n",
       "      <td>Least busy days</td>\n",
       "      <td>Most orders</td>\n",
       "      <td>8</td>\n",
       "      <td>New customer</td>\n",
       "      <td>7.99</td>\n",
       "      <td>Low spender</td>\n",
       "      <td>19.0</td>\n",
       "      <td>Regular customer</td>\n",
       "    </tr>\n",
       "  </tbody>\n",
       "</table>\n",
       "<p>5 rows × 31 columns</p>\n",
       "</div>"
      ],
      "text/plain": [
       "   user_id first_name last_name  gender     state  age  n_dependants  \\\n",
       "0    26711    Deborah  Esquivel  Female  Missouri   48             3   \n",
       "1    26711    Deborah  Esquivel  Female  Missouri   48             3   \n",
       "2    26711    Deborah  Esquivel  Female  Missouri   48             3   \n",
       "3    26711    Deborah  Esquivel  Female  Missouri   48             3   \n",
       "4    26711    Deborah  Esquivel  Female  Missouri   48             3   \n",
       "\n",
       "  family_status  income  order_id  ...  prices     busiest_day  \\\n",
       "0       married  165665   2543867  ...     9.0  Regularly busy   \n",
       "1       married  165665   1285508  ...     9.0  Regularly busy   \n",
       "2       married  165665   2578584  ...     9.0  Regularly busy   \n",
       "3       married  165665    423547  ...    12.6  Regularly busy   \n",
       "4       married  165665   2524893  ...    12.6  Regularly busy   \n",
       "\n",
       "      busiest_days  busiest_period_of_day  max_order  loyalty_flag  spending  \\\n",
       "0     Busiest days         Average orders          8  New customer      7.99   \n",
       "1   Regularly busy            Most orders          8  New customer      7.99   \n",
       "2     Busiest days            Most orders          8  New customer      7.99   \n",
       "3   Regularly busy         Average orders          8  New customer      7.99   \n",
       "4  Least busy days            Most orders          8  New customer      7.99   \n",
       "\n",
       "   spending_flag frequency    frequency_flag  \n",
       "0    Low spender      19.0  Regular customer  \n",
       "1    Low spender      19.0  Regular customer  \n",
       "2    Low spender      19.0  Regular customer  \n",
       "3    Low spender      19.0  Regular customer  \n",
       "4    Low spender      19.0  Regular customer  \n",
       "\n",
       "[5 rows x 31 columns]"
      ]
     },
     "execution_count": 14,
     "metadata": {},
     "output_type": "execute_result"
    }
   ],
   "source": [
    "df_test.head()"
   ]
  },
  {
   "cell_type": "markdown",
   "id": "3b042366",
   "metadata": {},
   "source": [
    "### (5.) Export this new dataframe as a pickle file so you can continue to use it in the second part of this task."
   ]
  },
  {
   "cell_type": "code",
   "execution_count": 17,
   "id": "b83af287",
   "metadata": {},
   "outputs": [],
   "source": [
    "df_test.to_pickle(os.path.join(path,'02 Data','Prepared Data','customer_orders_production_merge.pkl'))"
   ]
  }
 ],
 "metadata": {
  "kernelspec": {
   "display_name": "Python 3 (ipykernel)",
   "language": "python",
   "name": "python3"
  },
  "language_info": {
   "codemirror_mode": {
    "name": "ipython",
    "version": 3
   },
   "file_extension": ".py",
   "mimetype": "text/x-python",
   "name": "python",
   "nbconvert_exporter": "python",
   "pygments_lexer": "ipython3",
   "version": "3.9.7"
  }
 },
 "nbformat": 4,
 "nbformat_minor": 5
}
