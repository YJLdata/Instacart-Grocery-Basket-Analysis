{
 "cells": [
  {
   "cell_type": "markdown",
   "id": "8e5330bb",
   "metadata": {},
   "source": [
    "## 01. Import libraries "
   ]
  },
  {
   "cell_type": "code",
   "execution_count": 1,
   "id": "6d757c1a",
   "metadata": {},
   "outputs": [],
   "source": [
    "# Import libraries\n",
    "import pandas as pd\n",
    "import numpy as np\n",
    "import os"
   ]
  },
  {
   "cell_type": "markdown",
   "id": "c7e71e89",
   "metadata": {},
   "source": [
    "## 02. Familiarize with Python Operators"
   ]
  },
  {
   "cell_type": "code",
   "execution_count": 19,
   "id": "9262c957",
   "metadata": {},
   "outputs": [
    {
     "data": {
      "text/plain": [
       "100"
      ]
     },
     "execution_count": 19,
     "metadata": {},
     "output_type": "execute_result"
    }
   ],
   "source": [
    "# 3 ways to Get 100 (1)\n",
    "2*50"
   ]
  },
  {
   "cell_type": "code",
   "execution_count": 20,
   "id": "249e1709",
   "metadata": {},
   "outputs": [
    {
     "data": {
      "text/plain": [
       "100"
      ]
     },
     "execution_count": 20,
     "metadata": {},
     "output_type": "execute_result"
    }
   ],
   "source": [
    "# 3 ways to Get 100 (2)\n",
    "98+2"
   ]
  },
  {
   "cell_type": "code",
   "execution_count": 21,
   "id": "5fbd9d4c",
   "metadata": {},
   "outputs": [
    {
     "data": {
      "text/plain": [
       "100.0"
      ]
     },
     "execution_count": 21,
     "metadata": {},
     "output_type": "execute_result"
    }
   ],
   "source": [
    "# 3 ways to Get 100 (3)\n",
    "200/2"
   ]
  },
  {
   "cell_type": "code",
   "execution_count": 2,
   "id": "5d03d0a6",
   "metadata": {},
   "outputs": [
    {
     "data": {
      "text/plain": [
       "2.0"
      ]
     },
     "execution_count": 2,
     "metadata": {},
     "output_type": "execute_result"
    }
   ],
   "source": [
    "# Divide two floating-point variables\n",
    "x=10\n",
    "y=5\n",
    "x/y"
   ]
  },
  {
   "cell_type": "code",
   "execution_count": 1,
   "id": "d8aa3070",
   "metadata": {},
   "outputs": [
    {
     "data": {
      "text/plain": [
       "'Hello'"
      ]
     },
     "execution_count": 1,
     "metadata": {},
     "output_type": "execute_result"
    }
   ],
   "source": [
    "# Concatenation for a short word\n",
    "a='Hel'\n",
    "b='lo'\n",
    "a+b"
   ]
  },
  {
   "cell_type": "code",
   "execution_count": 3,
   "id": "27a6fab7",
   "metadata": {},
   "outputs": [
    {
     "data": {
      "text/plain": [
       "'I like different colors in Python.'"
      ]
     },
     "execution_count": 3,
     "metadata": {},
     "output_type": "execute_result"
    }
   ],
   "source": [
    "# Concatenation for 2 short sentences (1)\n",
    "c='I like'\n",
    "d=' different colors in Python.'\n",
    "c+d\n"
   ]
  },
  {
   "cell_type": "code",
   "execution_count": 4,
   "id": "8fa1aba6",
   "metadata": {},
   "outputs": [
    {
     "data": {
      "text/plain": [
       "'It makes coding more visible and readable.'"
      ]
     },
     "execution_count": 4,
     "metadata": {},
     "output_type": "execute_result"
    }
   ],
   "source": [
    "# Concatenation for 2 short sentences (2)\n",
    "e='It makes coding'\n",
    "f=' more visible and readable.'\n",
    "e+f"
   ]
  },
  {
   "cell_type": "code",
   "execution_count": 11,
   "id": "0d45af14",
   "metadata": {},
   "outputs": [
    {
     "name": "stdout",
     "output_type": "stream",
     "text": [
      "HahahihiHahahihiHahahihiHahahihiHahahihiHahahihiHahahihiHahahihiHahahihiHahahihiHahahihiHahahihiHahahihiHahahihiHahahihiHahahihiHahahihiHahahihiHahahihiHahahihiHahahihiHahahihiHahahihiHahahihiHahahihiHahahihiHahahihiHahahihiHahahihiHahahihiHahahihiHahahihiHahahihiHahahihiHahahihiHahahihiHahahihiHahahihiHahahihiHahahihiHahahihiHahahihiHahahihiHahahihiHahahihiHahahihiHahahihiHahahihiHahahihiHahahihiHahahihiHahahihiHahahihiHahahihiHahahihiHahahihiHahahihiHahahihiHahahihiHahahihiHahahihiHahahihiHahahihiHahahihiHahahihiHahahihiHahahihiHahahihiHahahihiHahahihiHahahihiHahahihiHahahihiHahahihiHahahihiHahahihiHahahihiHahahihiHahahihiHahahihiHahahihiHahahihiHahahihiHahahihiHahahihiHahahihiHahahihiHahahihiHahahihiHahahihiHahahihiHahahihiHahahihiHahahihiHahahihiHahahihiHahahihiHahahihiHahahihiHahahihi\n"
     ]
    }
   ],
   "source": [
    "I='Hahahihi'\n",
    "print(I*100)\n"
   ]
  }
 ],
 "metadata": {
  "kernelspec": {
   "display_name": "Python 3 (ipykernel)",
   "language": "python",
   "name": "python3"
  },
  "language_info": {
   "codemirror_mode": {
    "name": "ipython",
    "version": 3
   },
   "file_extension": ".py",
   "mimetype": "text/x-python",
   "name": "python",
   "nbconvert_exporter": "python",
   "pygments_lexer": "ipython3",
   "version": "3.9.7"
  }
 },
 "nbformat": 4,
 "nbformat_minor": 5
}
