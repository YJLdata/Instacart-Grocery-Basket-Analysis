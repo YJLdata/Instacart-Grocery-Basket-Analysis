{
 "cells": [
  {
   "cell_type": "markdown",
   "id": "376542ec",
   "metadata": {},
   "source": [
    "# 4.10 Coding Etiquette & Excel Reporting"
   ]
  },
  {
   "cell_type": "markdown",
   "id": "31c9a693",
   "metadata": {},
   "source": [
    "## Part 1"
   ]
  },
  {
   "cell_type": "markdown",
   "id": "9d85c7ba",
   "metadata": {},
   "source": [
    "### 1. Import the data set you exported in Exercise 4.9 into a new Jupyter notebook. This should be the merged version of your data that contains the new customers column. "
   ]
  },
  {
   "cell_type": "code",
   "execution_count": 1,
   "id": "5a15af44",
   "metadata": {},
   "outputs": [],
   "source": [
    "import pandas as pd \n",
    "import numpy as np\n",
    "import os\n",
    "import matplotlib.pyplot as plt\n",
    "import seaborn as sns\n",
    "import scipy"
   ]
  },
  {
   "cell_type": "code",
   "execution_count": 2,
   "id": "966753b4",
   "metadata": {},
   "outputs": [],
   "source": [
    "path = r'D:\\02.2022_Instacart Basket Analysis'"
   ]
  },
  {
   "cell_type": "code",
   "execution_count": 3,
   "id": "d02f709f",
   "metadata": {},
   "outputs": [],
   "source": [
    "df_cop_merged= pd.read_pickle(os.path.join(path,'02 Data','Prepared Data','customer_orders_production_merge.pkl'))"
   ]
  },
  {
   "cell_type": "markdown",
   "id": "dc57f8f8",
   "metadata": {},
   "source": [
    "### 2. Consider any security implications that might exist for this new data. You’ll need to address any PII data in the data before continuing your analysis."
   ]
  },
  {
   "cell_type": "code",
   "execution_count": null,
   "id": "7b48efeb",
   "metadata": {},
   "outputs": [],
   "source": [
    "df_cop_merged.head()"
   ]
  },
  {
   "cell_type": "code",
   "execution_count": 5,
   "id": "bb8569c3",
   "metadata": {},
   "outputs": [],
   "source": [
    "df_cop_merged_PIIchecked = df_cop_merged.drop(columns = ['first_name','last_name'])"
   ]
  },
  {
   "cell_type": "markdown",
   "id": "f681867a",
   "metadata": {},
   "source": [
    "Names are personally identifiable information, so I dropped these columns here. Moreover,I would like to check all other columns whether they also contain PII, so I cancelled display_max limitation as below."
   ]
  },
  {
   "cell_type": "code",
   "execution_count": 6,
   "id": "2f96de3b",
   "metadata": {},
   "outputs": [],
   "source": [
    "pd.set_option('display.max_columns', False)"
   ]
  },
  {
   "cell_type": "code",
   "execution_count": 7,
   "id": "b943e9b9",
   "metadata": {},
   "outputs": [
    {
     "data": {
      "text/html": [
       "<div>\n",
       "<style scoped>\n",
       "    .dataframe tbody tr th:only-of-type {\n",
       "        vertical-align: middle;\n",
       "    }\n",
       "\n",
       "    .dataframe tbody tr th {\n",
       "        vertical-align: top;\n",
       "    }\n",
       "\n",
       "    .dataframe thead th {\n",
       "        text-align: right;\n",
       "    }\n",
       "</style>\n",
       "<table border=\"1\" class=\"dataframe\">\n",
       "  <thead>\n",
       "    <tr style=\"text-align: right;\">\n",
       "      <th></th>\n",
       "      <th>user_id</th>\n",
       "      <th>gender</th>\n",
       "      <th>state</th>\n",
       "      <th>age</th>\n",
       "      <th>n_dependants</th>\n",
       "      <th>family_status</th>\n",
       "      <th>income</th>\n",
       "      <th>order_id</th>\n",
       "      <th>order_number</th>\n",
       "      <th>orders_day_of_week</th>\n",
       "      <th>order_time_of_day</th>\n",
       "      <th>days_since_prior_order</th>\n",
       "      <th>first_order</th>\n",
       "      <th>product_id</th>\n",
       "      <th>add_to_cart_order</th>\n",
       "      <th>reordered</th>\n",
       "      <th>product_name</th>\n",
       "      <th>aisle_id</th>\n",
       "      <th>department_id</th>\n",
       "      <th>prices</th>\n",
       "      <th>busiest_day</th>\n",
       "      <th>busiest_days</th>\n",
       "      <th>busiest_period_of_day</th>\n",
       "      <th>max_order</th>\n",
       "      <th>loyalty_flag</th>\n",
       "      <th>spending</th>\n",
       "      <th>spending_flag</th>\n",
       "      <th>frequency</th>\n",
       "      <th>frequency_flag</th>\n",
       "    </tr>\n",
       "  </thead>\n",
       "  <tbody>\n",
       "    <tr>\n",
       "      <th>0</th>\n",
       "      <td>26711</td>\n",
       "      <td>Female</td>\n",
       "      <td>Missouri</td>\n",
       "      <td>48</td>\n",
       "      <td>3</td>\n",
       "      <td>married</td>\n",
       "      <td>165665</td>\n",
       "      <td>2543867</td>\n",
       "      <td>5</td>\n",
       "      <td>1</td>\n",
       "      <td>9</td>\n",
       "      <td>30.0</td>\n",
       "      <td>False</td>\n",
       "      <td>196</td>\n",
       "      <td>2</td>\n",
       "      <td>0</td>\n",
       "      <td>Soda</td>\n",
       "      <td>77</td>\n",
       "      <td>7</td>\n",
       "      <td>9.0</td>\n",
       "      <td>Regularly busy</td>\n",
       "      <td>Busiest days</td>\n",
       "      <td>Average orders</td>\n",
       "      <td>8</td>\n",
       "      <td>New customer</td>\n",
       "      <td>7.99</td>\n",
       "      <td>Low spender</td>\n",
       "      <td>19.0</td>\n",
       "      <td>Regular customer</td>\n",
       "    </tr>\n",
       "    <tr>\n",
       "      <th>1</th>\n",
       "      <td>26711</td>\n",
       "      <td>Female</td>\n",
       "      <td>Missouri</td>\n",
       "      <td>48</td>\n",
       "      <td>3</td>\n",
       "      <td>married</td>\n",
       "      <td>165665</td>\n",
       "      <td>1285508</td>\n",
       "      <td>7</td>\n",
       "      <td>5</td>\n",
       "      <td>15</td>\n",
       "      <td>11.0</td>\n",
       "      <td>False</td>\n",
       "      <td>196</td>\n",
       "      <td>1</td>\n",
       "      <td>1</td>\n",
       "      <td>Soda</td>\n",
       "      <td>77</td>\n",
       "      <td>7</td>\n",
       "      <td>9.0</td>\n",
       "      <td>Regularly busy</td>\n",
       "      <td>Regularly busy</td>\n",
       "      <td>Most orders</td>\n",
       "      <td>8</td>\n",
       "      <td>New customer</td>\n",
       "      <td>7.99</td>\n",
       "      <td>Low spender</td>\n",
       "      <td>19.0</td>\n",
       "      <td>Regular customer</td>\n",
       "    </tr>\n",
       "    <tr>\n",
       "      <th>2</th>\n",
       "      <td>26711</td>\n",
       "      <td>Female</td>\n",
       "      <td>Missouri</td>\n",
       "      <td>48</td>\n",
       "      <td>3</td>\n",
       "      <td>married</td>\n",
       "      <td>165665</td>\n",
       "      <td>2578584</td>\n",
       "      <td>8</td>\n",
       "      <td>1</td>\n",
       "      <td>15</td>\n",
       "      <td>10.0</td>\n",
       "      <td>False</td>\n",
       "      <td>196</td>\n",
       "      <td>2</td>\n",
       "      <td>1</td>\n",
       "      <td>Soda</td>\n",
       "      <td>77</td>\n",
       "      <td>7</td>\n",
       "      <td>9.0</td>\n",
       "      <td>Regularly busy</td>\n",
       "      <td>Busiest days</td>\n",
       "      <td>Most orders</td>\n",
       "      <td>8</td>\n",
       "      <td>New customer</td>\n",
       "      <td>7.99</td>\n",
       "      <td>Low spender</td>\n",
       "      <td>19.0</td>\n",
       "      <td>Regular customer</td>\n",
       "    </tr>\n",
       "    <tr>\n",
       "      <th>3</th>\n",
       "      <td>26711</td>\n",
       "      <td>Female</td>\n",
       "      <td>Missouri</td>\n",
       "      <td>48</td>\n",
       "      <td>3</td>\n",
       "      <td>married</td>\n",
       "      <td>165665</td>\n",
       "      <td>423547</td>\n",
       "      <td>2</td>\n",
       "      <td>2</td>\n",
       "      <td>9</td>\n",
       "      <td>14.0</td>\n",
       "      <td>False</td>\n",
       "      <td>38928</td>\n",
       "      <td>1</td>\n",
       "      <td>0</td>\n",
       "      <td>0% Greek Strained Yogurt</td>\n",
       "      <td>120</td>\n",
       "      <td>16</td>\n",
       "      <td>12.6</td>\n",
       "      <td>Regularly busy</td>\n",
       "      <td>Regularly busy</td>\n",
       "      <td>Average orders</td>\n",
       "      <td>8</td>\n",
       "      <td>New customer</td>\n",
       "      <td>7.99</td>\n",
       "      <td>Low spender</td>\n",
       "      <td>19.0</td>\n",
       "      <td>Regular customer</td>\n",
       "    </tr>\n",
       "    <tr>\n",
       "      <th>4</th>\n",
       "      <td>26711</td>\n",
       "      <td>Female</td>\n",
       "      <td>Missouri</td>\n",
       "      <td>48</td>\n",
       "      <td>3</td>\n",
       "      <td>married</td>\n",
       "      <td>165665</td>\n",
       "      <td>2524893</td>\n",
       "      <td>3</td>\n",
       "      <td>3</td>\n",
       "      <td>11</td>\n",
       "      <td>30.0</td>\n",
       "      <td>False</td>\n",
       "      <td>38928</td>\n",
       "      <td>1</td>\n",
       "      <td>1</td>\n",
       "      <td>0% Greek Strained Yogurt</td>\n",
       "      <td>120</td>\n",
       "      <td>16</td>\n",
       "      <td>12.6</td>\n",
       "      <td>Regularly busy</td>\n",
       "      <td>Least busy days</td>\n",
       "      <td>Most orders</td>\n",
       "      <td>8</td>\n",
       "      <td>New customer</td>\n",
       "      <td>7.99</td>\n",
       "      <td>Low spender</td>\n",
       "      <td>19.0</td>\n",
       "      <td>Regular customer</td>\n",
       "    </tr>\n",
       "  </tbody>\n",
       "</table>\n",
       "</div>"
      ],
      "text/plain": [
       "   user_id  gender     state  age  n_dependants  ...  loyalty_flag  spending  spending_flag  frequency    frequency_flag\n",
       "0    26711  Female  Missouri   48             3  ...  New customer      7.99    Low spender       19.0  Regular customer\n",
       "1    26711  Female  Missouri   48             3  ...  New customer      7.99    Low spender       19.0  Regular customer\n",
       "2    26711  Female  Missouri   48             3  ...  New customer      7.99    Low spender       19.0  Regular customer\n",
       "3    26711  Female  Missouri   48             3  ...  New customer      7.99    Low spender       19.0  Regular customer\n",
       "4    26711  Female  Missouri   48             3  ...  New customer      7.99    Low spender       19.0  Regular customer\n",
       "\n",
       "[5 rows x 29 columns]"
      ]
     },
     "execution_count": 7,
     "metadata": {},
     "output_type": "execute_result"
    }
   ],
   "source": [
    "df_cop_merged_PIIchecked.head()"
   ]
  },
  {
   "cell_type": "markdown",
   "id": "df803590",
   "metadata": {},
   "source": [
    "No PII information in the other columns. "
   ]
  },
  {
   "cell_type": "markdown",
   "id": "a4d2a551",
   "metadata": {},
   "source": [
    "### 3. The Instacart officers are interested in comparing customer behavior in different geographic areas. Create a regional segmentation of the data. \n",
    "### (1.) You’ll need to create a “Region” column based on the “State” column from your customers data set. Use the region information in this Wikipedia article to create your column (you only need to create regions, not  divisions).\n",
    "### (2.) Determine whether there’s a difference in spending habits between the different U.S. regions. (Hint: You can do this by crossing the variable you just created with the spending flag.)"
   ]
  },
  {
   "cell_type": "code",
   "execution_count": 8,
   "id": "1d4569d2",
   "metadata": {},
   "outputs": [
    {
     "data": {
      "text/plain": [
       "array(['Missouri', 'New Mexico', 'Idaho', 'Iowa', 'Maryland', 'Kentucky',\n",
       "       'Montana', 'South Carolina', 'Texas', 'Virginia', 'Nevada',\n",
       "       'Nebraska', 'Georgia', 'Wyoming', 'Colorado', 'North Dakota',\n",
       "       'Wisconsin', 'Alaska', 'Vermont', 'Arkansas', 'Maine',\n",
       "       'North Carolina', 'West Virginia', 'Indiana', 'Oregon', 'Florida',\n",
       "       'California', 'Pennsylvania', 'Ohio', 'Connecticut', 'Arizona',\n",
       "       'Louisiana', 'Washington', 'New York', 'Mississippi', 'Oklahoma',\n",
       "       'Utah', 'New Hampshire', 'Hawaii', 'District of Columbia',\n",
       "       'Alabama', 'Massachusetts', 'Rhode Island', 'Michigan',\n",
       "       'New Jersey', 'Kansas', 'South Dakota', 'Minnesota', 'Illinois',\n",
       "       'Tennessee', 'Delaware'], dtype=object)"
      ]
     },
     "execution_count": 8,
     "metadata": {},
     "output_type": "execute_result"
    }
   ],
   "source": [
    "# Check if there is misspelling in state column\n",
    "df_cop_merged_PIIchecked['state'].unique()"
   ]
  },
  {
   "cell_type": "markdown",
   "id": "3bda439e",
   "metadata": {},
   "source": [
    "No misspelling is found."
   ]
  },
  {
   "cell_type": "code",
   "execution_count": 9,
   "id": "f37b55ed",
   "metadata": {},
   "outputs": [],
   "source": [
    "# Create Region list\n",
    "Northeast = ['Maine','New Hampshire','Vermont','Massachusetts','Rhode Island','Connecticut','New York','New Jersey','Pennsylvania']\n",
    "Midwest = ['Wisconsin','Michigan','Illinois','Indiana','Ohio','North Dakota','South Dakota','Nebraska','Kansas','Minnesota','Iowa','Missouri']\n",
    "South = ['Delaware','Maryland','District of Columbia','Virginia','West Virginia','North Carolina','South Carolina','Georgia','Florida','Kentucky','Tennessee','Mississippi','Alabama','Oklahoma','Texas','Arkansas','Louisiana']\n",
    "West = ['Idaho','Montana','Wyoming','Nevada','Utah','Colorado','Arizona','New Mexico','Alaska','Washington','Oregon','California','Hawaii']"
   ]
  },
  {
   "cell_type": "code",
   "execution_count": 10,
   "id": "3ba40edc",
   "metadata": {},
   "outputs": [],
   "source": [
    "# Assign regions according to each state\n",
    "df_cop_merged_PIIchecked.loc[df_cop_merged_PIIchecked['state'].isin(['Maine','New Hampshire','Vermont','Massachusetts','Rhode Island','Connecticut','New York','New Jersey','Pennsylvania']),'region'] = 'Northeast'\n",
    "df_cop_merged_PIIchecked.loc[df_cop_merged_PIIchecked['state'].isin(['Wisconsin','Michigan','Illinois','Indiana','Ohio','North Dakota','South Dakota','Nebraska','Kansas','Minnesota','Iowa','Missouri']),'region'] = 'Midwest'\n",
    "df_cop_merged_PIIchecked.loc[df_cop_merged_PIIchecked['state'].isin(['Delaware','Maryland','District of Columbia','Virginia','West Virginia','North Carolina','South Carolina','Georgia','Florida','Kentucky','Tennessee','Mississippi','Alabama','Oklahoma','Texas','Arkansas','Louisiana']),'region'] = 'South'\n",
    "df_cop_merged_PIIchecked.loc[df_cop_merged_PIIchecked['state'].isin(['Idaho','Montana','Wyoming','Nevada','Utah','Colorado','Arizona','New Mexico','Alaska','Washington','Oregon','California','Hawaii']),'region'] = 'West'"
   ]
  },
  {
   "cell_type": "code",
   "execution_count": 11,
   "id": "a87ab2f9",
   "metadata": {},
   "outputs": [
    {
     "data": {
      "text/plain": [
       "South        10197331\n",
       "West          7830688\n",
       "Midwest       7175716\n",
       "Northeast     5421220\n",
       "Name: region, dtype: int64"
      ]
     },
     "execution_count": 11,
     "metadata": {},
     "output_type": "execute_result"
    }
   ],
   "source": [
    "# Check if there is still NaN in region column\n",
    "df_cop_merged_PIIchecked['region'].value_counts(dropna =False)"
   ]
  },
  {
   "cell_type": "code",
   "execution_count": null,
   "id": "c91f49c2",
   "metadata": {},
   "outputs": [],
   "source": [
    "# Another method:\n",
    "# using np.select add regions column\n",
    "# cond=[sales_cust['state'].isin(Northeast),sales_cust['state'].isin(Midwest),sales_cust['state'].isin(South),sales_cust['state'].isin(West)]\n",
    "# values=['Northeast','Midwest','South','West']\n",
    "# sales_cust['region']=np.select(cond,values)"
   ]
  },
  {
   "cell_type": "markdown",
   "id": "ba565ab4",
   "metadata": {},
   "source": [
    "### 4. The Instacart CFO isn’t interested in customers who don’t generate much revenue for the app. Create an exclusion flag for low-activity customers (customers with less than 5 orders) and exclude them from the data. Make sure you export this sample."
   ]
  },
  {
   "cell_type": "code",
   "execution_count": 12,
   "id": "22977022",
   "metadata": {},
   "outputs": [
    {
     "data": {
      "text/plain": [
       "Index(['user_id', 'gender', 'state', 'age', 'n_dependants', 'family_status',\n",
       "       'income', 'order_id', 'order_number', 'orders_day_of_week',\n",
       "       'order_time_of_day', 'days_since_prior_order', 'first_order',\n",
       "       'product_id', 'add_to_cart_order', 'reordered', 'product_name',\n",
       "       'aisle_id', 'department_id', 'prices', 'busiest_day', 'busiest_days',\n",
       "       'busiest_period_of_day', 'max_order', 'loyalty_flag', 'spending',\n",
       "       'spending_flag', 'frequency', 'frequency_flag', 'region'],\n",
       "      dtype='object')"
      ]
     },
     "execution_count": 12,
     "metadata": {},
     "output_type": "execute_result"
    }
   ],
   "source": [
    "df_cop_merged_PIIchecked.columns"
   ]
  },
  {
   "cell_type": "code",
   "execution_count": 13,
   "id": "4d041f69",
   "metadata": {},
   "outputs": [],
   "source": [
    "# Create activity flags by loc functions\n",
    "df_cop_merged_PIIchecked.loc[df_cop_merged_PIIchecked['max_order'] < 5,'activity_flag'] = 'low_activity'"
   ]
  },
  {
   "cell_type": "code",
   "execution_count": 14,
   "id": "017cd8a9",
   "metadata": {},
   "outputs": [],
   "source": [
    "df_cop_merged_PIIchecked.loc[df_cop_merged_PIIchecked['max_order'] >= 5,'activity_flag'] = 'normal_activity'"
   ]
  },
  {
   "cell_type": "code",
   "execution_count": 15,
   "id": "96b139aa",
   "metadata": {},
   "outputs": [
    {
     "data": {
      "text/plain": [
       "normal_activity    29266394\n",
       "low_activity        1358561\n",
       "Name: activity_flag, dtype: int64"
      ]
     },
     "execution_count": 15,
     "metadata": {},
     "output_type": "execute_result"
    }
   ],
   "source": [
    "# check the result of loc functions\n",
    "df_cop_merged_PIIchecked['activity_flag'].value_counts(dropna = False)"
   ]
  },
  {
   "cell_type": "code",
   "execution_count": 16,
   "id": "904eb4d6",
   "metadata": {},
   "outputs": [
    {
     "name": "stdout",
     "output_type": "stream",
     "text": [
      "<class 'pandas.core.frame.DataFrame'>\n",
      "Int64Index: 30624955 entries, 0 to 30624954\n",
      "Data columns (total 31 columns):\n",
      " #   Column                  Dtype  \n",
      "---  ------                  -----  \n",
      " 0   user_id                 int32  \n",
      " 1   gender                  object \n",
      " 2   state                   object \n",
      " 3   age                     int8   \n",
      " 4   n_dependants            int8   \n",
      " 5   family_status           object \n",
      " 6   income                  int32  \n",
      " 7   order_id                int32  \n",
      " 8   order_number            int8   \n",
      " 9   orders_day_of_week      int8   \n",
      " 10  order_time_of_day       int8   \n",
      " 11  days_since_prior_order  float64\n",
      " 12  first_order             bool   \n",
      " 13  product_id              int32  \n",
      " 14  add_to_cart_order       int16  \n",
      " 15  reordered               int8   \n",
      " 16  product_name            object \n",
      " 17  aisle_id                int8   \n",
      " 18  department_id           int8   \n",
      " 19  prices                  float64\n",
      " 20  busiest_day             object \n",
      " 21  busiest_days            object \n",
      " 22  busiest_period_of_day   object \n",
      " 23  max_order               int16  \n",
      " 24  loyalty_flag            object \n",
      " 25  spending                float64\n",
      " 26  spending_flag           object \n",
      " 27  frequency               float64\n",
      " 28  frequency_flag          object \n",
      " 29  region                  object \n",
      " 30  activity_flag           object \n",
      "dtypes: bool(1), float64(4), int16(2), int32(4), int8(8), object(12)\n",
      "memory usage: 4.7+ GB\n"
     ]
    }
   ],
   "source": [
    "df_cop_merged_PIIchecked.info()"
   ]
  },
  {
   "cell_type": "code",
   "execution_count": null,
   "id": "e913d11e",
   "metadata": {},
   "outputs": [],
   "source": [
    "# Check values in columns to see if we can change datatype to save memory space"
   ]
  },
  {
   "cell_type": "code",
   "execution_count": 17,
   "id": "b53bd589",
   "metadata": {},
   "outputs": [
    {
     "data": {
      "text/plain": [
       "30.0"
      ]
     },
     "execution_count": 17,
     "metadata": {},
     "output_type": "execute_result"
    }
   ],
   "source": [
    "df_cop_merged_PIIchecked['days_since_prior_order'].max()"
   ]
  },
  {
   "cell_type": "code",
   "execution_count": 18,
   "id": "9237a2c5",
   "metadata": {},
   "outputs": [
    {
     "data": {
      "text/plain": [
       "25.0"
      ]
     },
     "execution_count": 18,
     "metadata": {},
     "output_type": "execute_result"
    }
   ],
   "source": [
    "df_cop_merged_PIIchecked['prices'].max()"
   ]
  },
  {
   "cell_type": "code",
   "execution_count": 19,
   "id": "5b4960eb",
   "metadata": {},
   "outputs": [
    {
     "data": {
      "text/plain": [
       "23.2"
      ]
     },
     "execution_count": 19,
     "metadata": {},
     "output_type": "execute_result"
    }
   ],
   "source": [
    "df_cop_merged_PIIchecked['spending'].max()"
   ]
  },
  {
   "cell_type": "code",
   "execution_count": 20,
   "id": "56419e03",
   "metadata": {},
   "outputs": [
    {
     "data": {
      "text/plain": [
       "30.0"
      ]
     },
     "execution_count": 20,
     "metadata": {},
     "output_type": "execute_result"
    }
   ],
   "source": [
    "df_cop_merged_PIIchecked['frequency'].max()"
   ]
  },
  {
   "cell_type": "code",
   "execution_count": null,
   "id": "b0b6b47c",
   "metadata": {},
   "outputs": [],
   "source": [
    "# Change datatype to save memory space"
   ]
  },
  {
   "cell_type": "code",
   "execution_count": 21,
   "id": "ba3ba947",
   "metadata": {},
   "outputs": [],
   "source": [
    "df_cop_merged_PIIchecked['days_since_prior_order'] = df_cop_merged_PIIchecked['days_since_prior_order'].astype('float16')"
   ]
  },
  {
   "cell_type": "code",
   "execution_count": 22,
   "id": "3ef89f71",
   "metadata": {},
   "outputs": [],
   "source": [
    "df_cop_merged_PIIchecked['prices'] = df_cop_merged_PIIchecked['prices'].astype('float16')"
   ]
  },
  {
   "cell_type": "code",
   "execution_count": 23,
   "id": "beef6f94",
   "metadata": {},
   "outputs": [],
   "source": [
    "df_cop_merged_PIIchecked['spending'] = df_cop_merged_PIIchecked['spending'].astype('float16')"
   ]
  },
  {
   "cell_type": "code",
   "execution_count": 24,
   "id": "77ae8230",
   "metadata": {},
   "outputs": [],
   "source": [
    "df_cop_merged_PIIchecked['frequency'] = df_cop_merged_PIIchecked['frequency'].astype('float16')"
   ]
  },
  {
   "cell_type": "code",
   "execution_count": 25,
   "id": "268b702b",
   "metadata": {},
   "outputs": [],
   "source": [
    "df_cop_merged_PIIchecked['max_order'] = df_cop_merged_PIIchecked['max_order'].astype('int8')"
   ]
  },
  {
   "cell_type": "code",
   "execution_count": null,
   "id": "271b92ab",
   "metadata": {},
   "outputs": [],
   "source": [
    "# Filter out low-active customers"
   ]
  },
  {
   "cell_type": "code",
   "execution_count": 27,
   "id": "6ae2533d",
   "metadata": {},
   "outputs": [],
   "source": [
    "df_cop_merged_PIIchecked = df_cop_merged_PIIchecked.loc[df_cop_merged_PIIchecked['activity_flag'] =='normal_activity']"
   ]
  },
  {
   "cell_type": "code",
   "execution_count": 30,
   "id": "5226f789",
   "metadata": {},
   "outputs": [
    {
     "data": {
      "text/html": [
       "<div>\n",
       "<style scoped>\n",
       "    .dataframe tbody tr th:only-of-type {\n",
       "        vertical-align: middle;\n",
       "    }\n",
       "\n",
       "    .dataframe tbody tr th {\n",
       "        vertical-align: top;\n",
       "    }\n",
       "\n",
       "    .dataframe thead th {\n",
       "        text-align: right;\n",
       "    }\n",
       "</style>\n",
       "<table border=\"1\" class=\"dataframe\">\n",
       "  <thead>\n",
       "    <tr style=\"text-align: right;\">\n",
       "      <th></th>\n",
       "      <th>user_id</th>\n",
       "      <th>gender</th>\n",
       "      <th>state</th>\n",
       "      <th>age</th>\n",
       "      <th>n_dependants</th>\n",
       "      <th>family_status</th>\n",
       "      <th>income</th>\n",
       "      <th>order_id</th>\n",
       "      <th>order_number</th>\n",
       "      <th>orders_day_of_week</th>\n",
       "      <th>order_time_of_day</th>\n",
       "      <th>days_since_prior_order</th>\n",
       "      <th>first_order</th>\n",
       "      <th>product_id</th>\n",
       "      <th>add_to_cart_order</th>\n",
       "      <th>reordered</th>\n",
       "      <th>product_name</th>\n",
       "      <th>aisle_id</th>\n",
       "      <th>department_id</th>\n",
       "      <th>prices</th>\n",
       "      <th>busiest_day</th>\n",
       "      <th>busiest_days</th>\n",
       "      <th>busiest_period_of_day</th>\n",
       "      <th>max_order</th>\n",
       "      <th>loyalty_flag</th>\n",
       "      <th>spending</th>\n",
       "      <th>spending_flag</th>\n",
       "      <th>frequency</th>\n",
       "      <th>frequency_flag</th>\n",
       "      <th>region</th>\n",
       "      <th>activity_flag</th>\n",
       "    </tr>\n",
       "  </thead>\n",
       "  <tbody>\n",
       "    <tr>\n",
       "      <th>0</th>\n",
       "      <td>26711</td>\n",
       "      <td>Female</td>\n",
       "      <td>Missouri</td>\n",
       "      <td>48</td>\n",
       "      <td>3</td>\n",
       "      <td>married</td>\n",
       "      <td>165665</td>\n",
       "      <td>2543867</td>\n",
       "      <td>5</td>\n",
       "      <td>1</td>\n",
       "      <td>9</td>\n",
       "      <td>30.0</td>\n",
       "      <td>False</td>\n",
       "      <td>196</td>\n",
       "      <td>2</td>\n",
       "      <td>0</td>\n",
       "      <td>Soda</td>\n",
       "      <td>77</td>\n",
       "      <td>7</td>\n",
       "      <td>9.000000</td>\n",
       "      <td>Regularly busy</td>\n",
       "      <td>Busiest days</td>\n",
       "      <td>Average orders</td>\n",
       "      <td>8</td>\n",
       "      <td>New customer</td>\n",
       "      <td>7.988281</td>\n",
       "      <td>Low spender</td>\n",
       "      <td>19.0</td>\n",
       "      <td>Regular customer</td>\n",
       "      <td>Midwest</td>\n",
       "      <td>normal_activity</td>\n",
       "    </tr>\n",
       "    <tr>\n",
       "      <th>1</th>\n",
       "      <td>26711</td>\n",
       "      <td>Female</td>\n",
       "      <td>Missouri</td>\n",
       "      <td>48</td>\n",
       "      <td>3</td>\n",
       "      <td>married</td>\n",
       "      <td>165665</td>\n",
       "      <td>1285508</td>\n",
       "      <td>7</td>\n",
       "      <td>5</td>\n",
       "      <td>15</td>\n",
       "      <td>11.0</td>\n",
       "      <td>False</td>\n",
       "      <td>196</td>\n",
       "      <td>1</td>\n",
       "      <td>1</td>\n",
       "      <td>Soda</td>\n",
       "      <td>77</td>\n",
       "      <td>7</td>\n",
       "      <td>9.000000</td>\n",
       "      <td>Regularly busy</td>\n",
       "      <td>Regularly busy</td>\n",
       "      <td>Most orders</td>\n",
       "      <td>8</td>\n",
       "      <td>New customer</td>\n",
       "      <td>7.988281</td>\n",
       "      <td>Low spender</td>\n",
       "      <td>19.0</td>\n",
       "      <td>Regular customer</td>\n",
       "      <td>Midwest</td>\n",
       "      <td>normal_activity</td>\n",
       "    </tr>\n",
       "    <tr>\n",
       "      <th>2</th>\n",
       "      <td>26711</td>\n",
       "      <td>Female</td>\n",
       "      <td>Missouri</td>\n",
       "      <td>48</td>\n",
       "      <td>3</td>\n",
       "      <td>married</td>\n",
       "      <td>165665</td>\n",
       "      <td>2578584</td>\n",
       "      <td>8</td>\n",
       "      <td>1</td>\n",
       "      <td>15</td>\n",
       "      <td>10.0</td>\n",
       "      <td>False</td>\n",
       "      <td>196</td>\n",
       "      <td>2</td>\n",
       "      <td>1</td>\n",
       "      <td>Soda</td>\n",
       "      <td>77</td>\n",
       "      <td>7</td>\n",
       "      <td>9.000000</td>\n",
       "      <td>Regularly busy</td>\n",
       "      <td>Busiest days</td>\n",
       "      <td>Most orders</td>\n",
       "      <td>8</td>\n",
       "      <td>New customer</td>\n",
       "      <td>7.988281</td>\n",
       "      <td>Low spender</td>\n",
       "      <td>19.0</td>\n",
       "      <td>Regular customer</td>\n",
       "      <td>Midwest</td>\n",
       "      <td>normal_activity</td>\n",
       "    </tr>\n",
       "    <tr>\n",
       "      <th>3</th>\n",
       "      <td>26711</td>\n",
       "      <td>Female</td>\n",
       "      <td>Missouri</td>\n",
       "      <td>48</td>\n",
       "      <td>3</td>\n",
       "      <td>married</td>\n",
       "      <td>165665</td>\n",
       "      <td>423547</td>\n",
       "      <td>2</td>\n",
       "      <td>2</td>\n",
       "      <td>9</td>\n",
       "      <td>14.0</td>\n",
       "      <td>False</td>\n",
       "      <td>38928</td>\n",
       "      <td>1</td>\n",
       "      <td>0</td>\n",
       "      <td>0% Greek Strained Yogurt</td>\n",
       "      <td>120</td>\n",
       "      <td>16</td>\n",
       "      <td>12.601562</td>\n",
       "      <td>Regularly busy</td>\n",
       "      <td>Regularly busy</td>\n",
       "      <td>Average orders</td>\n",
       "      <td>8</td>\n",
       "      <td>New customer</td>\n",
       "      <td>7.988281</td>\n",
       "      <td>Low spender</td>\n",
       "      <td>19.0</td>\n",
       "      <td>Regular customer</td>\n",
       "      <td>Midwest</td>\n",
       "      <td>normal_activity</td>\n",
       "    </tr>\n",
       "    <tr>\n",
       "      <th>4</th>\n",
       "      <td>26711</td>\n",
       "      <td>Female</td>\n",
       "      <td>Missouri</td>\n",
       "      <td>48</td>\n",
       "      <td>3</td>\n",
       "      <td>married</td>\n",
       "      <td>165665</td>\n",
       "      <td>2524893</td>\n",
       "      <td>3</td>\n",
       "      <td>3</td>\n",
       "      <td>11</td>\n",
       "      <td>30.0</td>\n",
       "      <td>False</td>\n",
       "      <td>38928</td>\n",
       "      <td>1</td>\n",
       "      <td>1</td>\n",
       "      <td>0% Greek Strained Yogurt</td>\n",
       "      <td>120</td>\n",
       "      <td>16</td>\n",
       "      <td>12.601562</td>\n",
       "      <td>Regularly busy</td>\n",
       "      <td>Least busy days</td>\n",
       "      <td>Most orders</td>\n",
       "      <td>8</td>\n",
       "      <td>New customer</td>\n",
       "      <td>7.988281</td>\n",
       "      <td>Low spender</td>\n",
       "      <td>19.0</td>\n",
       "      <td>Regular customer</td>\n",
       "      <td>Midwest</td>\n",
       "      <td>normal_activity</td>\n",
       "    </tr>\n",
       "  </tbody>\n",
       "</table>\n",
       "</div>"
      ],
      "text/plain": [
       "   user_id  gender     state  age  n_dependants  ... spending_flag  frequency    frequency_flag   region    activity_flag\n",
       "0    26711  Female  Missouri   48             3  ...   Low spender       19.0  Regular customer  Midwest  normal_activity\n",
       "1    26711  Female  Missouri   48             3  ...   Low spender       19.0  Regular customer  Midwest  normal_activity\n",
       "2    26711  Female  Missouri   48             3  ...   Low spender       19.0  Regular customer  Midwest  normal_activity\n",
       "3    26711  Female  Missouri   48             3  ...   Low spender       19.0  Regular customer  Midwest  normal_activity\n",
       "4    26711  Female  Missouri   48             3  ...   Low spender       19.0  Regular customer  Midwest  normal_activity\n",
       "\n",
       "[5 rows x 31 columns]"
      ]
     },
     "execution_count": 30,
     "metadata": {},
     "output_type": "execute_result"
    }
   ],
   "source": [
    "df_cop_merged_PIIchecked.head()"
   ]
  },
  {
   "cell_type": "code",
   "execution_count": 31,
   "id": "458439f8",
   "metadata": {},
   "outputs": [
    {
     "name": "stdout",
     "output_type": "stream",
     "text": [
      "<class 'pandas.core.frame.DataFrame'>\n",
      "Int64Index: 29266394 entries, 0 to 30624913\n",
      "Data columns (total 31 columns):\n",
      " #   Column                  Dtype  \n",
      "---  ------                  -----  \n",
      " 0   user_id                 int32  \n",
      " 1   gender                  object \n",
      " 2   state                   object \n",
      " 3   age                     int8   \n",
      " 4   n_dependants            int8   \n",
      " 5   family_status           object \n",
      " 6   income                  int32  \n",
      " 7   order_id                int32  \n",
      " 8   order_number            int8   \n",
      " 9   orders_day_of_week      int8   \n",
      " 10  order_time_of_day       int8   \n",
      " 11  days_since_prior_order  float16\n",
      " 12  first_order             bool   \n",
      " 13  product_id              int32  \n",
      " 14  add_to_cart_order       int16  \n",
      " 15  reordered               int8   \n",
      " 16  product_name            object \n",
      " 17  aisle_id                int8   \n",
      " 18  department_id           int8   \n",
      " 19  prices                  float16\n",
      " 20  busiest_day             object \n",
      " 21  busiest_days            object \n",
      " 22  busiest_period_of_day   object \n",
      " 23  max_order               int8   \n",
      " 24  loyalty_flag            object \n",
      " 25  spending                float16\n",
      " 26  spending_flag           object \n",
      " 27  frequency               float16\n",
      " 28  frequency_flag          object \n",
      " 29  region                  object \n",
      " 30  activity_flag           object \n",
      "dtypes: bool(1), float16(4), int16(1), int32(4), int8(9), object(12)\n",
      "memory usage: 3.8+ GB\n"
     ]
    }
   ],
   "source": [
    "df_cop_merged_PIIchecked.info()"
   ]
  },
  {
   "cell_type": "code",
   "execution_count": 33,
   "id": "63ca1933",
   "metadata": {},
   "outputs": [],
   "source": [
    "# Exporting\n",
    "df_cop_merged_PIIchecked.to_pickle(os.path.join(path,'02 Data','Prepared Data','customer_orders_production_merge.pkl'))"
   ]
  }
 ],
 "metadata": {
  "kernelspec": {
   "display_name": "Python 3 (ipykernel)",
   "language": "python",
   "name": "python3"
  },
  "language_info": {
   "codemirror_mode": {
    "name": "ipython",
    "version": 3
   },
   "file_extension": ".py",
   "mimetype": "text/x-python",
   "name": "python",
   "nbconvert_exporter": "python",
   "pygments_lexer": "ipython3",
   "version": "3.9.7"
  }
 },
 "nbformat": 4,
 "nbformat_minor": 5
}
