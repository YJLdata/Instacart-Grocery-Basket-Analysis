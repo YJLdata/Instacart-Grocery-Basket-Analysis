{
 "cells": [
  {
   "cell_type": "markdown",
   "id": "376542ec",
   "metadata": {},
   "source": [
    "# 4.10 Coding Etiquette & Excel Reporting"
   ]
  },
  {
   "cell_type": "markdown",
   "id": "30571452",
   "metadata": {},
   "source": [
    "## Part 2"
   ]
  },
  {
   "cell_type": "code",
   "execution_count": 8,
   "id": "81355413",
   "metadata": {},
   "outputs": [],
   "source": [
    "# Importing libraries\n",
    "import pandas as pd \n",
    "import numpy as np\n",
    "import os\n",
    "import matplotlib.pyplot as plt\n",
    "import seaborn as sns\n",
    "import scipy"
   ]
  },
  {
   "cell_type": "code",
   "execution_count": 9,
   "id": "b2e5db58",
   "metadata": {},
   "outputs": [],
   "source": [
    "# import data frame\n",
    "path = r'D:\\02.2022_Instacart Basket Analysis'"
   ]
  },
  {
   "cell_type": "code",
   "execution_count": 10,
   "id": "abcc12ad",
   "metadata": {},
   "outputs": [],
   "source": [
    "df = pd.read_pickle(os.path.join(path,'02 Data','Prepared Data','customer_orders_production_merge.pkl'))"
   ]
  },
  {
   "cell_type": "code",
   "execution_count": 4,
   "id": "0401ec9e",
   "metadata": {},
   "outputs": [
    {
     "data": {
      "text/plain": [
       "(29266394, 31)"
      ]
     },
     "execution_count": 4,
     "metadata": {},
     "output_type": "execute_result"
    }
   ],
   "source": [
    "df.shape"
   ]
  },
  {
   "cell_type": "code",
   "execution_count": 5,
   "id": "ec0454bb",
   "metadata": {},
   "outputs": [
    {
     "name": "stdout",
     "output_type": "stream",
     "text": [
      "<class 'pandas.core.frame.DataFrame'>\n",
      "Int64Index: 29266394 entries, 0 to 30624913\n",
      "Data columns (total 31 columns):\n",
      " #   Column                  Dtype  \n",
      "---  ------                  -----  \n",
      " 0   user_id                 int32  \n",
      " 1   gender                  object \n",
      " 2   state                   object \n",
      " 3   age                     int8   \n",
      " 4   n_dependants            int8   \n",
      " 5   family_status           object \n",
      " 6   income                  int32  \n",
      " 7   order_id                int32  \n",
      " 8   order_number            int8   \n",
      " 9   orders_day_of_week      int8   \n",
      " 10  order_time_of_day       int8   \n",
      " 11  days_since_prior_order  float16\n",
      " 12  first_order             bool   \n",
      " 13  product_id              int32  \n",
      " 14  add_to_cart_order       int16  \n",
      " 15  reordered               int8   \n",
      " 16  product_name            object \n",
      " 17  aisle_id                int8   \n",
      " 18  department_id           int8   \n",
      " 19  prices                  float16\n",
      " 20  busiest_day             object \n",
      " 21  busiest_days            object \n",
      " 22  busiest_period_of_day   object \n",
      " 23  max_order               int8   \n",
      " 24  loyalty_flag            object \n",
      " 25  spending                float16\n",
      " 26  spending_flag           object \n",
      " 27  frequency               float16\n",
      " 28  frequency_flag          object \n",
      " 29  region                  object \n",
      " 30  activity_flag           object \n",
      "dtypes: bool(1), float16(4), int16(1), int32(4), int8(9), object(12)\n",
      "memory usage: 3.8+ GB\n"
     ]
    }
   ],
   "source": [
    "df.info()"
   ]
  },
  {
   "cell_type": "markdown",
   "id": "3f51e4aa",
   "metadata": {},
   "source": [
    "### 5. The marketing and business strategy units at Instacart want to create more-relevant marketing strategies for different products and are, thus, curious about customer profiling in their database. Create a profiling variable based on age, income, certain goods in the “department_id” column, and number of dependents. You might also use the “orders_day_of_the_week” and “order_hour_of_day” columns if you can think of a way they would impact customer profiles. (Hint: As an example, try thinking of what characteristics would lead you to the profile “Single adult” or “Young parent.”)\n",
    "### 6. Create an appropriate visualization to show the distribution of profiles."
   ]
  },
  {
   "cell_type": "code",
   "execution_count": 21,
   "id": "54809177",
   "metadata": {},
   "outputs": [],
   "source": [
    "# Import data frame\n",
    "departments = pd.read_csv(os.path.join(path,'02 Data','Prepared Data','df_dep_t_new_wrangled.csv'))"
   ]
  },
  {
   "cell_type": "code",
   "execution_count": 22,
   "id": "7967167e",
   "metadata": {},
   "outputs": [
    {
     "data": {
      "text/html": [
       "<div>\n",
       "<style scoped>\n",
       "    .dataframe tbody tr th:only-of-type {\n",
       "        vertical-align: middle;\n",
       "    }\n",
       "\n",
       "    .dataframe tbody tr th {\n",
       "        vertical-align: top;\n",
       "    }\n",
       "\n",
       "    .dataframe thead th {\n",
       "        text-align: right;\n",
       "    }\n",
       "</style>\n",
       "<table border=\"1\" class=\"dataframe\">\n",
       "  <thead>\n",
       "    <tr style=\"text-align: right;\">\n",
       "      <th></th>\n",
       "      <th>Unnamed: 0</th>\n",
       "      <th>department</th>\n",
       "    </tr>\n",
       "  </thead>\n",
       "  <tbody>\n",
       "    <tr>\n",
       "      <th>0</th>\n",
       "      <td>1</td>\n",
       "      <td>frozen</td>\n",
       "    </tr>\n",
       "    <tr>\n",
       "      <th>1</th>\n",
       "      <td>2</td>\n",
       "      <td>other</td>\n",
       "    </tr>\n",
       "    <tr>\n",
       "      <th>2</th>\n",
       "      <td>3</td>\n",
       "      <td>bakery</td>\n",
       "    </tr>\n",
       "    <tr>\n",
       "      <th>3</th>\n",
       "      <td>4</td>\n",
       "      <td>produce</td>\n",
       "    </tr>\n",
       "    <tr>\n",
       "      <th>4</th>\n",
       "      <td>5</td>\n",
       "      <td>alcohol</td>\n",
       "    </tr>\n",
       "  </tbody>\n",
       "</table>\n",
       "</div>"
      ],
      "text/plain": [
       "   Unnamed: 0 department\n",
       "0           1     frozen\n",
       "1           2      other\n",
       "2           3     bakery\n",
       "3           4    produce\n",
       "4           5    alcohol"
      ]
     },
     "execution_count": 22,
     "metadata": {},
     "output_type": "execute_result"
    }
   ],
   "source": [
    "# Check the data frame\n",
    "departments.head()"
   ]
  },
  {
   "cell_type": "code",
   "execution_count": 8,
   "id": "af1fed4d",
   "metadata": {},
   "outputs": [],
   "source": [
    "# Change inapropriate column name\n",
    "departments.rename(columns = {'Unnamed: 0':'department_id'}, inplace = True)"
   ]
  },
  {
   "cell_type": "code",
   "execution_count": 9,
   "id": "b514d0eb",
   "metadata": {},
   "outputs": [
    {
     "data": {
      "text/plain": [
       "(21, 2)"
      ]
     },
     "execution_count": 9,
     "metadata": {},
     "output_type": "execute_result"
    }
   ],
   "source": [
    "departments.shape"
   ]
  },
  {
   "cell_type": "code",
   "execution_count": 10,
   "id": "ca6a118d",
   "metadata": {},
   "outputs": [
    {
     "data": {
      "text/html": [
       "<div>\n",
       "<style scoped>\n",
       "    .dataframe tbody tr th:only-of-type {\n",
       "        vertical-align: middle;\n",
       "    }\n",
       "\n",
       "    .dataframe tbody tr th {\n",
       "        vertical-align: top;\n",
       "    }\n",
       "\n",
       "    .dataframe thead th {\n",
       "        text-align: right;\n",
       "    }\n",
       "</style>\n",
       "<table border=\"1\" class=\"dataframe\">\n",
       "  <thead>\n",
       "    <tr style=\"text-align: right;\">\n",
       "      <th></th>\n",
       "      <th>department_id</th>\n",
       "      <th>department</th>\n",
       "    </tr>\n",
       "  </thead>\n",
       "  <tbody>\n",
       "    <tr>\n",
       "      <th>0</th>\n",
       "      <td>1</td>\n",
       "      <td>frozen</td>\n",
       "    </tr>\n",
       "    <tr>\n",
       "      <th>1</th>\n",
       "      <td>2</td>\n",
       "      <td>other</td>\n",
       "    </tr>\n",
       "    <tr>\n",
       "      <th>2</th>\n",
       "      <td>3</td>\n",
       "      <td>bakery</td>\n",
       "    </tr>\n",
       "    <tr>\n",
       "      <th>3</th>\n",
       "      <td>4</td>\n",
       "      <td>produce</td>\n",
       "    </tr>\n",
       "    <tr>\n",
       "      <th>4</th>\n",
       "      <td>5</td>\n",
       "      <td>alcohol</td>\n",
       "    </tr>\n",
       "  </tbody>\n",
       "</table>\n",
       "</div>"
      ],
      "text/plain": [
       "   department_id department\n",
       "0              1     frozen\n",
       "1              2      other\n",
       "2              3     bakery\n",
       "3              4    produce\n",
       "4              5    alcohol"
      ]
     },
     "execution_count": 10,
     "metadata": {},
     "output_type": "execute_result"
    }
   ],
   "source": [
    "departments.head()"
   ]
  },
  {
   "cell_type": "code",
   "execution_count": 11,
   "id": "46d56e83",
   "metadata": {},
   "outputs": [],
   "source": [
    "# Merge df with departments \n",
    "final_df = df.merge(departments, on = ['department_id'], how = 'inner')"
   ]
  },
  {
   "cell_type": "code",
   "execution_count": 12,
   "id": "a4433a70",
   "metadata": {},
   "outputs": [
    {
     "data": {
      "text/html": [
       "<div>\n",
       "<style scoped>\n",
       "    .dataframe tbody tr th:only-of-type {\n",
       "        vertical-align: middle;\n",
       "    }\n",
       "\n",
       "    .dataframe tbody tr th {\n",
       "        vertical-align: top;\n",
       "    }\n",
       "\n",
       "    .dataframe thead th {\n",
       "        text-align: right;\n",
       "    }\n",
       "</style>\n",
       "<table border=\"1\" class=\"dataframe\">\n",
       "  <thead>\n",
       "    <tr style=\"text-align: right;\">\n",
       "      <th></th>\n",
       "      <th>user_id</th>\n",
       "      <th>gender</th>\n",
       "      <th>state</th>\n",
       "      <th>age</th>\n",
       "      <th>n_dependants</th>\n",
       "      <th>family_status</th>\n",
       "      <th>income</th>\n",
       "      <th>order_id</th>\n",
       "      <th>order_number</th>\n",
       "      <th>orders_day_of_week</th>\n",
       "      <th>...</th>\n",
       "      <th>busiest_period_of_day</th>\n",
       "      <th>max_order</th>\n",
       "      <th>loyalty_flag</th>\n",
       "      <th>spending</th>\n",
       "      <th>spending_flag</th>\n",
       "      <th>frequency</th>\n",
       "      <th>frequency_flag</th>\n",
       "      <th>region</th>\n",
       "      <th>activity_flag</th>\n",
       "      <th>department</th>\n",
       "    </tr>\n",
       "  </thead>\n",
       "  <tbody>\n",
       "    <tr>\n",
       "      <th>0</th>\n",
       "      <td>26711</td>\n",
       "      <td>Female</td>\n",
       "      <td>Missouri</td>\n",
       "      <td>48</td>\n",
       "      <td>3</td>\n",
       "      <td>married</td>\n",
       "      <td>165665</td>\n",
       "      <td>2543867</td>\n",
       "      <td>5</td>\n",
       "      <td>1</td>\n",
       "      <td>...</td>\n",
       "      <td>Average orders</td>\n",
       "      <td>8</td>\n",
       "      <td>New customer</td>\n",
       "      <td>7.988281</td>\n",
       "      <td>Low spender</td>\n",
       "      <td>19.0</td>\n",
       "      <td>Regular customer</td>\n",
       "      <td>Midwest</td>\n",
       "      <td>normal_activity</td>\n",
       "      <td>beverages</td>\n",
       "    </tr>\n",
       "    <tr>\n",
       "      <th>1</th>\n",
       "      <td>26711</td>\n",
       "      <td>Female</td>\n",
       "      <td>Missouri</td>\n",
       "      <td>48</td>\n",
       "      <td>3</td>\n",
       "      <td>married</td>\n",
       "      <td>165665</td>\n",
       "      <td>1285508</td>\n",
       "      <td>7</td>\n",
       "      <td>5</td>\n",
       "      <td>...</td>\n",
       "      <td>Most orders</td>\n",
       "      <td>8</td>\n",
       "      <td>New customer</td>\n",
       "      <td>7.988281</td>\n",
       "      <td>Low spender</td>\n",
       "      <td>19.0</td>\n",
       "      <td>Regular customer</td>\n",
       "      <td>Midwest</td>\n",
       "      <td>normal_activity</td>\n",
       "      <td>beverages</td>\n",
       "    </tr>\n",
       "    <tr>\n",
       "      <th>2</th>\n",
       "      <td>26711</td>\n",
       "      <td>Female</td>\n",
       "      <td>Missouri</td>\n",
       "      <td>48</td>\n",
       "      <td>3</td>\n",
       "      <td>married</td>\n",
       "      <td>165665</td>\n",
       "      <td>2578584</td>\n",
       "      <td>8</td>\n",
       "      <td>1</td>\n",
       "      <td>...</td>\n",
       "      <td>Most orders</td>\n",
       "      <td>8</td>\n",
       "      <td>New customer</td>\n",
       "      <td>7.988281</td>\n",
       "      <td>Low spender</td>\n",
       "      <td>19.0</td>\n",
       "      <td>Regular customer</td>\n",
       "      <td>Midwest</td>\n",
       "      <td>normal_activity</td>\n",
       "      <td>beverages</td>\n",
       "    </tr>\n",
       "    <tr>\n",
       "      <th>3</th>\n",
       "      <td>33890</td>\n",
       "      <td>Female</td>\n",
       "      <td>New Mexico</td>\n",
       "      <td>36</td>\n",
       "      <td>0</td>\n",
       "      <td>single</td>\n",
       "      <td>59285</td>\n",
       "      <td>1044841</td>\n",
       "      <td>3</td>\n",
       "      <td>6</td>\n",
       "      <td>...</td>\n",
       "      <td>Most orders</td>\n",
       "      <td>12</td>\n",
       "      <td>Regular customer</td>\n",
       "      <td>7.058594</td>\n",
       "      <td>Low spender</td>\n",
       "      <td>26.0</td>\n",
       "      <td>Non-frequent customer</td>\n",
       "      <td>West</td>\n",
       "      <td>normal_activity</td>\n",
       "      <td>beverages</td>\n",
       "    </tr>\n",
       "    <tr>\n",
       "      <th>4</th>\n",
       "      <td>33890</td>\n",
       "      <td>Female</td>\n",
       "      <td>New Mexico</td>\n",
       "      <td>36</td>\n",
       "      <td>0</td>\n",
       "      <td>single</td>\n",
       "      <td>59285</td>\n",
       "      <td>474720</td>\n",
       "      <td>4</td>\n",
       "      <td>1</td>\n",
       "      <td>...</td>\n",
       "      <td>Average orders</td>\n",
       "      <td>12</td>\n",
       "      <td>Regular customer</td>\n",
       "      <td>7.058594</td>\n",
       "      <td>Low spender</td>\n",
       "      <td>26.0</td>\n",
       "      <td>Non-frequent customer</td>\n",
       "      <td>West</td>\n",
       "      <td>normal_activity</td>\n",
       "      <td>beverages</td>\n",
       "    </tr>\n",
       "  </tbody>\n",
       "</table>\n",
       "<p>5 rows × 32 columns</p>\n",
       "</div>"
      ],
      "text/plain": [
       "   user_id  gender       state  age  n_dependants family_status  income  \\\n",
       "0    26711  Female    Missouri   48             3       married  165665   \n",
       "1    26711  Female    Missouri   48             3       married  165665   \n",
       "2    26711  Female    Missouri   48             3       married  165665   \n",
       "3    33890  Female  New Mexico   36             0        single   59285   \n",
       "4    33890  Female  New Mexico   36             0        single   59285   \n",
       "\n",
       "   order_id  order_number  orders_day_of_week  ...  busiest_period_of_day  \\\n",
       "0   2543867             5                   1  ...         Average orders   \n",
       "1   1285508             7                   5  ...            Most orders   \n",
       "2   2578584             8                   1  ...            Most orders   \n",
       "3   1044841             3                   6  ...            Most orders   \n",
       "4    474720             4                   1  ...         Average orders   \n",
       "\n",
       "   max_order      loyalty_flag  spending  spending_flag  frequency  \\\n",
       "0          8      New customer  7.988281    Low spender       19.0   \n",
       "1          8      New customer  7.988281    Low spender       19.0   \n",
       "2          8      New customer  7.988281    Low spender       19.0   \n",
       "3         12  Regular customer  7.058594    Low spender       26.0   \n",
       "4         12  Regular customer  7.058594    Low spender       26.0   \n",
       "\n",
       "          frequency_flag   region    activity_flag  department  \n",
       "0       Regular customer  Midwest  normal_activity   beverages  \n",
       "1       Regular customer  Midwest  normal_activity   beverages  \n",
       "2       Regular customer  Midwest  normal_activity   beverages  \n",
       "3  Non-frequent customer     West  normal_activity   beverages  \n",
       "4  Non-frequent customer     West  normal_activity   beverages  \n",
       "\n",
       "[5 rows x 32 columns]"
      ]
     },
     "execution_count": 12,
     "metadata": {},
     "output_type": "execute_result"
    }
   ],
   "source": [
    "final_df.head()"
   ]
  },
  {
   "cell_type": "code",
   "execution_count": 13,
   "id": "d8f389c3",
   "metadata": {},
   "outputs": [
    {
     "name": "stdout",
     "output_type": "stream",
     "text": [
      "<class 'pandas.core.frame.DataFrame'>\n",
      "Int64Index: 29266394 entries, 0 to 29266393\n",
      "Data columns (total 32 columns):\n",
      " #   Column                  Dtype  \n",
      "---  ------                  -----  \n",
      " 0   user_id                 int32  \n",
      " 1   gender                  object \n",
      " 2   state                   object \n",
      " 3   age                     int8   \n",
      " 4   n_dependants            int8   \n",
      " 5   family_status           object \n",
      " 6   income                  int32  \n",
      " 7   order_id                int32  \n",
      " 8   order_number            int8   \n",
      " 9   orders_day_of_week      int8   \n",
      " 10  order_time_of_day       int8   \n",
      " 11  days_since_prior_order  float16\n",
      " 12  first_order             bool   \n",
      " 13  product_id              int32  \n",
      " 14  add_to_cart_order       int16  \n",
      " 15  reordered               int8   \n",
      " 16  product_name            object \n",
      " 17  aisle_id                int8   \n",
      " 18  department_id           int8   \n",
      " 19  prices                  float16\n",
      " 20  busiest_day             object \n",
      " 21  busiest_days            object \n",
      " 22  busiest_period_of_day   object \n",
      " 23  max_order               int8   \n",
      " 24  loyalty_flag            object \n",
      " 25  spending                float16\n",
      " 26  spending_flag           object \n",
      " 27  frequency               float16\n",
      " 28  frequency_flag          object \n",
      " 29  region                  object \n",
      " 30  activity_flag           object \n",
      " 31  department              object \n",
      "dtypes: bool(1), float16(4), int16(1), int32(4), int8(9), object(13)\n",
      "memory usage: 4.0+ GB\n"
     ]
    }
   ],
   "source": [
    "final_df.info()"
   ]
  },
  {
   "cell_type": "markdown",
   "id": "31d9b2ed",
   "metadata": {},
   "source": [
    "#### Age"
   ]
  },
  {
   "cell_type": "code",
   "execution_count": 14,
   "id": "47280e55",
   "metadata": {},
   "outputs": [],
   "source": [
    "# Layout and sort the unique age values\n",
    "Age = final_df['age'].unique()"
   ]
  },
  {
   "cell_type": "code",
   "execution_count": 15,
   "id": "8ef0b454",
   "metadata": {},
   "outputs": [],
   "source": [
    "Age.sort()"
   ]
  },
  {
   "cell_type": "code",
   "execution_count": 16,
   "id": "116e57fc",
   "metadata": {},
   "outputs": [
    {
     "name": "stdout",
     "output_type": "stream",
     "text": [
      "[18 19 20 21 22 23 24 25 26 27 28 29 30 31 32 33 34 35 36 37 38 39 40 41\n",
      " 42 43 44 45 46 47 48 49 50 51 52 53 54 55 56 57 58 59 60 61 62 63 64 65\n",
      " 66 67 68 69 70 71 72 73 74 75 76 77 78 79 80 81]\n"
     ]
    }
   ],
   "source": [
    "print(Age)"
   ]
  },
  {
   "cell_type": "markdown",
   "id": "c383dd08",
   "metadata": {},
   "source": [
    "Our customer's age is between 18 - 81 years old. "
   ]
  },
  {
   "cell_type": "code",
   "execution_count": 17,
   "id": "a476a5aa",
   "metadata": {},
   "outputs": [],
   "source": [
    "# Create age_group by loc functions\n",
    "final_df.loc[(final_df['age'] >= 18) & (final_df['age'] <= 24), 'age_group'] = '18-24'\n",
    "final_df.loc[(final_df['age'] >= 25) & (final_df['age'] <= 34), 'age_group'] = '25-34'\n",
    "final_df.loc[(final_df['age'] >= 35) & (final_df['age'] <= 44), 'age_group'] = '35-44'\n",
    "final_df.loc[(final_df['age'] >= 45) & (final_df['age'] <= 54), 'age_group'] = '45-54'\n",
    "final_df.loc[(final_df['age'] >= 55) & (final_df['age'] <= 64), 'age_group'] = '55-64'\n",
    "final_df.loc[(final_df['age'] >= 65) & (final_df['age'] <= 74), 'age_group'] = '65-74'\n",
    "final_df.loc[final_df['age'] >= 75, 'age_group'] = '> 75'"
   ]
  },
  {
   "cell_type": "code",
   "execution_count": 18,
   "id": "6a0534e4",
   "metadata": {},
   "outputs": [
    {
     "data": {
      "text/plain": [
       "45-54    4612820\n",
       "35-44    4578141\n",
       "55-64    4561909\n",
       "25-34    4542103\n",
       "65-74    4518387\n",
       "18-24    3233267\n",
       "> 75     3219767\n",
       "Name: age_group, dtype: int64"
      ]
     },
     "execution_count": 18,
     "metadata": {},
     "output_type": "execute_result"
    }
   ],
   "source": [
    "# Check the result of loc functions\n",
    "final_df['age_group'].value_counts(dropna = False)"
   ]
  },
  {
   "cell_type": "code",
   "execution_count": 19,
   "id": "a2416746",
   "metadata": {},
   "outputs": [
    {
     "data": {
      "image/png": "[encoded data removed]",
      "text/plain": [
       "<Figure size 432x288 with 1 Axes>"
      ]
     },
     "metadata": {},
     "output_type": "display_data"
    }
   ],
   "source": [
    "# Pie CHart\n",
    "Age_group_pie = final_df['age_group'].value_counts().plot(kind='pie',startangle=90,autopct = '%1.0f%%',shadow=True,ylabel='')\n",
    "Age_group_pie.set_title(\"Customer's Age Structure\")\n",
    "plt.tight_layout()\n",
    "Age_group_pie.figure.savefig(os.path.join(path,'04 Analysis','Visualizations', 'age_group_pie.png'))"
   ]
  },
  {
   "cell_type": "markdown",
   "id": "cab6f228",
   "metadata": {},
   "source": [
    "#### Income"
   ]
  },
  {
   "cell_type": "code",
   "execution_count": 20,
   "id": "a290fa0a",
   "metadata": {},
   "outputs": [],
   "source": [
    "# Layout and sort the unique income values\n",
    "Income = final_df['income'].unique()"
   ]
  },
  {
   "cell_type": "code",
   "execution_count": 21,
   "id": "4a4ce4c3",
   "metadata": {},
   "outputs": [],
   "source": [
    "Income.sort()"
   ]
  },
  {
   "cell_type": "code",
   "execution_count": 22,
   "id": "a6704869",
   "metadata": {},
   "outputs": [
    {
     "name": "stdout",
     "output_type": "stream",
     "text": [
      "[ 25903  25911  25941 ... 590790 591089 593901]\n"
     ]
    }
   ],
   "source": [
    "print(Income)"
   ]
  },
  {
   "cell_type": "markdown",
   "id": "d30fd3d9",
   "metadata": {},
   "source": [
    "Our customer's income is between 25903 - 593901. "
   ]
  },
  {
   "cell_type": "code",
   "execution_count": 23,
   "id": "17af6702",
   "metadata": {},
   "outputs": [],
   "source": [
    "# Create income_group by loc functions\n",
    "final_df.loc[final_df['income'] < 50000, 'income_group'] = 'low <50K'\n",
    "final_df.loc[(final_df['income'] >= 50000) & (final_df['income'] < 100000), 'income_group'] = 'low/middle 50-100K'\n",
    "final_df.loc[(final_df['income'] >= 100000) & (final_df['income'] < 150000), 'income_group'] = 'middle/high 100-150K'\n",
    "final_df.loc[(final_df['income'] >= 150000), 'income_group'] = 'high >150K'"
   ]
  },
  {
   "cell_type": "code",
   "execution_count": 24,
   "id": "896737e9",
   "metadata": {},
   "outputs": [
    {
     "data": {
      "text/plain": [
       "low/middle 50-100K      12665701\n",
       "middle/high 100-150K     9761398\n",
       "high >150K               3670517\n",
       "low <50K                 3168778\n",
       "Name: income_group, dtype: int64"
      ]
     },
     "execution_count": 24,
     "metadata": {},
     "output_type": "execute_result"
    }
   ],
   "source": [
    "# Check the loc functions\n",
    "final_df['income_group'].value_counts(dropna = False)"
   ]
  },
  {
   "cell_type": "code",
   "execution_count": 25,
   "id": "d3cac4a3",
   "metadata": {},
   "outputs": [
    {
     "data": {
      "image/png": "[encoded data removed]",
      "text/plain": [
       "<Figure size 432x288 with 1 Axes>"
      ]
     },
     "metadata": {},
     "output_type": "display_data"
    }
   ],
   "source": [
    "# Pie chart\n",
    "myexplode = [0.2, 0, 0, 0]\n",
    "Income_pie = final_df['income_group'].value_counts().plot(kind='pie',startangle=90,autopct = '%1.0f%%',shadow=True,ylabel='',explode=myexplode)\n",
    "\n",
    "Income_pie.set_title(\"Customer's Income Structure\")\n",
    "plt.tight_layout()\n",
    "\n",
    "Income_pie.figure.savefig(os.path.join(path,'04 Analysis','Visualizations', 'income_pie.png'))"
   ]
  },
  {
   "cell_type": "markdown",
   "id": "38a599ee",
   "metadata": {},
   "source": [
    "People with medium income use the app the most. "
   ]
  },
  {
   "cell_type": "markdown",
   "id": "767618e9",
   "metadata": {},
   "source": [
    "#### Family status"
   ]
  },
  {
   "cell_type": "code",
   "execution_count": 26,
   "id": "1bf4fb6a",
   "metadata": {},
   "outputs": [
    {
     "data": {
      "text/plain": [
       "married                             20550046\n",
       "single                               4801195\n",
       "divorced/widowed                     2510202\n",
       "living with parents and siblings     1404951\n",
       "Name: family_status, dtype: int64"
      ]
     },
     "execution_count": 26,
     "metadata": {},
     "output_type": "execute_result"
    }
   ],
   "source": [
    "# Descriptive Analysis of family status\n",
    "final_df['family_status'].value_counts(dropna = False)"
   ]
  },
  {
   "cell_type": "code",
   "execution_count": 27,
   "id": "428c3e64",
   "metadata": {},
   "outputs": [
    {
     "data": {
      "image/png": "[encoded data removed]",
      "text/plain": [
       "<Figure size 432x288 with 1 Axes>"
      ]
     },
     "metadata": {
      "needs_background": "light"
     },
     "output_type": "display_data"
    }
   ],
   "source": [
    "# Bar chart\n",
    "Famil_status_barh = final_df['family_status'].value_counts().sort_values(ascending=True).plot.bar(color=['mediumseagreen'])\n",
    "\n",
    "Famil_status_barh.set_title(\"Customer's Family Status\")\n",
    "plt.xlabel(\"Customer number\")\n",
    "plt.ylabel(\"\")\n",
    "plt.tight_layout()\n",
    "\n",
    "Famil_status_barh.figure.savefig(os.path.join(path,'04 Analysis','Visualizations', 'famil_status_barh.png'))"
   ]
  },
  {
   "cell_type": "markdown",
   "id": "398403ad",
   "metadata": {},
   "source": [
    "Most customers are married. "
   ]
  },
  {
   "cell_type": "markdown",
   "id": "13f11f55",
   "metadata": {},
   "source": [
    "#### n_dependant"
   ]
  },
  {
   "cell_type": "code",
   "execution_count": 28,
   "id": "507fb502",
   "metadata": {},
   "outputs": [
    {
     "data": {
      "text/plain": [
       "3    7336969\n",
       "2    7317417\n",
       "0    7311397\n",
       "1    7300611\n",
       "Name: n_dependants, dtype: int64"
      ]
     },
     "execution_count": 28,
     "metadata": {},
     "output_type": "execute_result"
    }
   ],
   "source": [
    "# Descriptive Analysis of n_dependants\n",
    "final_df['n_dependants'].value_counts(dropna = False)"
   ]
  },
  {
   "cell_type": "code",
   "execution_count": 29,
   "id": "340ca1b4",
   "metadata": {},
   "outputs": [
    {
     "data": {
      "image/png": "[encoded data removed]",
      "text/plain": [
       "<Figure size 432x288 with 1 Axes>"
      ]
     },
     "metadata": {
      "needs_background": "light"
     },
     "output_type": "display_data"
    }
   ],
   "source": [
    "# Bar chart\n",
    "n_dependants_bar = final_df['n_dependants'].value_counts().plot.bar(color=['mediumseagreen'], rot = 0)\n",
    "\n",
    "n_dependants_bar.set_title(\"Customer's dependant numbers\")\n",
    "plt.xlabel(\"Number of dependants\")\n",
    "plt.ylabel(\"Customer number\")\n",
    "plt.tight_layout()\n",
    "\n",
    "n_dependants_bar.figure.savefig(os.path.join(path,'04 Analysis','Visualizations', 'n_dependants_bar.png'))"
   ]
  },
  {
   "cell_type": "markdown",
   "id": "66ab66c4",
   "metadata": {},
   "source": [
    "No significant result is found. "
   ]
  },
  {
   "cell_type": "markdown",
   "id": "d2d9ef30",
   "metadata": {},
   "source": [
    "#### Create customer profile"
   ]
  },
  {
   "cell_type": "code",
   "execution_count": 30,
   "id": "ecb080a5",
   "metadata": {},
   "outputs": [],
   "source": [
    "# Customer Profile\n",
    "final_df.loc[final_df['age'] >=65,'customer_profile'] = 'retired'\n",
    "\n",
    "final_df.loc[(final_df['age'] <65) & (final_df['family_status'] != 'married') & (final_df['n_dependants'] == 0),'customer_profile'] = 'single adult, no kid(s)'\n",
    "final_df.loc[(final_df['age'] <65) & (final_df['family_status'] != 'married') & (final_df['n_dependants'] != 0),'customer_profile'] = 'single adult, with kid(s)'\n",
    "\n",
    "final_df.loc[(final_df['age'] <65) & (final_df['family_status'] == 'married') & (final_df['n_dependants'] == 0),'customer_profile'] = 'married, no kid(s)'\n",
    "final_df.loc[(final_df['age'] <65) & (final_df['family_status'] == 'married') & (final_df['n_dependants'] != 0),'customer_profile'] = 'married, with kid(s)'\n",
    "\n",
    "final_df.loc[(final_df['age'] >= 18)& (final_df['age'] <=24) & (final_df['n_dependants'] != 0),'customer_profile'] = 'young parent'"
   ]
  },
  {
   "cell_type": "code",
   "execution_count": 31,
   "id": "e6bb47a1",
   "metadata": {},
   "outputs": [
    {
     "data": {
      "text/plain": [
       "married, with kid(s)       13674895\n",
       "retired                     7738154\n",
       "single adult, no kid(s)     5396115\n",
       "young parent                2457230\n",
       "Name: customer_profile, dtype: int64"
      ]
     },
     "execution_count": 31,
     "metadata": {},
     "output_type": "execute_result"
    }
   ],
   "source": [
    "final_df['customer_profile'].value_counts(dropna = False)"
   ]
  },
  {
   "cell_type": "code",
   "execution_count": 32,
   "id": "df194697",
   "metadata": {},
   "outputs": [],
   "source": [
    "# Customer Profile without unnecessary categories\n",
    "final_df.loc[final_df['age'] >=65,'customer_profile'] = 'retired'\n",
    "\n",
    "final_df.loc[(final_df['age'] <65) & (final_df['family_status'] != 'married') & (final_df['n_dependants'] == 0),'customer_profile'] = 'single adult'\n",
    "\n",
    "final_df.loc[(final_df['age'] <65) & (final_df['family_status'] == 'married') & (final_df['n_dependants'] != 0),'customer_profile'] = 'typical married parent'\n",
    "\n",
    "final_df.loc[(final_df['age'] >= 18)& (final_df['age'] <=24) & (final_df['n_dependants'] != 0),'customer_profile'] = 'young parent'"
   ]
  },
  {
   "cell_type": "code",
   "execution_count": 33,
   "id": "107b828f",
   "metadata": {},
   "outputs": [
    {
     "data": {
      "text/plain": [
       "typical married parent    13674895\n",
       "retired                    7738154\n",
       "single adult               5396115\n",
       "young parent               2457230\n",
       "Name: customer_profile, dtype: int64"
      ]
     },
     "execution_count": 33,
     "metadata": {},
     "output_type": "execute_result"
    }
   ],
   "source": [
    "final_df['customer_profile'].value_counts(dropna = False)"
   ]
  },
  {
   "cell_type": "code",
   "execution_count": 34,
   "id": "9894353d",
   "metadata": {},
   "outputs": [
    {
     "data": {
      "image/png": "[encoded data removed]",
      "text/plain": [
       "<Figure size 432x288 with 1 Axes>"
      ]
     },
     "metadata": {},
     "output_type": "display_data"
    }
   ],
   "source": [
    "# Pie chart\n",
    "myexplode = [0.2, 0, 0, 0]\n",
    "Customer_profile_pie = final_df['customer_profile'].value_counts().plot(kind='pie',startangle=90,autopct = '%1.0f%%',shadow=True,ylabel='',explode=myexplode,colors = sns.color_palette(\"Set1\")) \n",
    "\n",
    "Customer_profile_pie.set_title(\"Customer's Profile\")\n",
    "plt.tight_layout()\n",
    "\n",
    "Customer_profile_pie.figure.savefig(os.path.join(path,'04 Analysis','Visualizations', 'customer_profile_pie.png'))"
   ]
  },
  {
   "cell_type": "code",
   "execution_count": 35,
   "id": "eec6c555",
   "metadata": {},
   "outputs": [],
   "source": [
    "# Customer Profile with income\n",
    "final_df.loc[final_df['age'] >=65,'customer_profile_income'] = 'retired'\n",
    "\n",
    "final_df.loc[(final_df['age'] <65) & (final_df['family_status'] != 'married') & (final_df['n_dependants'] == 0) & (final_df['income'] < 50000),'customer_profile_income'] = 'single, low income'\n",
    "final_df.loc[(final_df['age'] <65) & (final_df['family_status'] != 'married') & (final_df['n_dependants'] == 0) & (final_df['income'] >= 50000) & (final_df['income'] < 100000),'customer_profile_income'] = 'single, low/middle income'\n",
    "final_df.loc[(final_df['age'] <65) & (final_df['family_status'] != 'married') & (final_df['n_dependants'] == 0) & (final_df['income'] >= 100000) & (final_df['income'] < 150000),'customer_profile_income'] = 'single, middle/high income'\n",
    "final_df.loc[(final_df['age'] <65) & (final_df['family_status'] != 'married') & (final_df['n_dependants'] == 0) & (final_df['income'] >= 150000),'customer_profile_income'] = 'single, high income'\n",
    "\n",
    "final_df.loc[(final_df['age'] <65) & (final_df['family_status'] == 'married') & (final_df['n_dependants'] != 0) & (final_df['income'] < 50000),'customer_profile_income'] = 'married, low income'\n",
    "final_df.loc[(final_df['age'] <65) & (final_df['family_status'] == 'married') & (final_df['n_dependants'] != 0) & (final_df['income'] >= 50000) & (final_df['income'] < 100000),'customer_profile_income'] = 'married, low/middle income'\n",
    "final_df.loc[(final_df['age'] <65) & (final_df['family_status'] == 'married') & (final_df['n_dependants'] != 0) & (final_df['income'] >= 100000) & (final_df['income'] < 150000),'customer_profile_income'] = 'married, middle/high income'\n",
    "final_df.loc[(final_df['age'] <65) & (final_df['family_status'] == 'married') & (final_df['n_dependants'] != 0) & (final_df['income'] >= 150000),'customer_profile_income'] = 'married, high income'\n",
    "\n",
    "final_df.loc[(final_df['age'] >= 18)& (final_df['age'] <=24) & (final_df['n_dependants'] != 0) & (final_df['income'] < 50000),'customer_profile_income'] = 'young parent, low income'\n",
    "final_df.loc[(final_df['age'] >= 18)& (final_df['age'] <=24) & (final_df['n_dependants'] != 0) & (final_df['income'] >= 50000) & (final_df['income'] < 100000),'customer_profile_income'] = 'young parent, low/middle income'\n",
    "final_df.loc[(final_df['age'] >= 18)& (final_df['age'] <=24) & (final_df['n_dependants'] != 0) & (final_df['income'] >= 100000) & (final_df['income'] < 150000),'customer_profile_income'] = 'young parent, middle/high income'\n",
    "final_df.loc[(final_df['age'] >= 18)& (final_df['age'] <=24) & (final_df['n_dependants'] != 0) & (final_df['income'] >= 150000),'customer_profile_income'] = 'young parent, high income'"
   ]
  },
  {
   "cell_type": "code",
   "execution_count": 36,
   "id": "b023e1ab",
   "metadata": {},
   "outputs": [
    {
     "data": {
      "text/plain": [
       "retired                             7738154\n",
       "married, low/middle income          6255976\n",
       "married, middle/high income         4276528\n",
       "single, low/middle income           2719450\n",
       "young parent, low/middle income     2013792\n",
       "married, high income                1624932\n",
       "married, low income                 1517459\n",
       "single, middle/high income          1456597\n",
       "single, low income                   649284\n",
       "single, high income                  570784\n",
       "young parent, low income             366437\n",
       "young parent, middle/high income      54487\n",
       "young parent, high income             22514\n",
       "Name: customer_profile_income, dtype: int64"
      ]
     },
     "execution_count": 36,
     "metadata": {},
     "output_type": "execute_result"
    }
   ],
   "source": [
    "final_df['customer_profile_income'].value_counts(dropna = False)"
   ]
  },
  {
   "cell_type": "code",
   "execution_count": 37,
   "id": "5bd554e8",
   "metadata": {},
   "outputs": [
    {
     "data": {
      "image/png": "[encoded data removed]",
      "text/plain": [
       "<Figure size 432x288 with 1 Axes>"
      ]
     },
     "metadata": {
      "needs_background": "light"
     },
     "output_type": "display_data"
    }
   ],
   "source": [
    "# column chart\n",
    "Customer_profile_income_hbar = final_df['customer_profile_income'].value_counts().sort_values(ascending=True).plot.barh(color = ['mediumseagreen'])\n",
    "\n",
    "Customer_profile_income_hbar.set_title(\"Customer's Profile with Income\")\n",
    "plt.xlabel(\"Customer number\")\n",
    "plt.ylabel(\"\")\n",
    "\n",
    "\n",
    "Customer_profile_income_hbar.figure.savefig(os.path.join(path,'04 Analysis','Visualizations', 'customer_profile_income_hbar.png'))"
   ]
  },
  {
   "cell_type": "markdown",
   "id": "435d249e",
   "metadata": {},
   "source": [
    "#### Department"
   ]
  },
  {
   "cell_type": "code",
   "execution_count": 38,
   "id": "a6973933",
   "metadata": {},
   "outputs": [
    {
     "data": {
      "text/plain": [
       "produce            8586351\n",
       "dairy eggs         4887596\n",
       "snacks             2616075\n",
       "beverages          2430657\n",
       "frozen             2006425\n",
       "pantry             1683753\n",
       "bakery             1059826\n",
       "canned goods        956832\n",
       "deli                948799\n",
       "dry goods pasta     777804\n",
       "household           660042\n",
       "meat seafood        639068\n",
       "breakfast           632755\n",
       "personal care       399661\n",
       "babies              387739\n",
       "international       242099\n",
       "alcohol             137942\n",
       "pets                 87853\n",
       "missing              61282\n",
       "other                32275\n",
       "bulk                 31560\n",
       "Name: department, dtype: int64"
      ]
     },
     "execution_count": 38,
     "metadata": {},
     "output_type": "execute_result"
    }
   ],
   "source": [
    "# Descriptive Analysis of department\n",
    "final_df['department'].value_counts(dropna = False)"
   ]
  },
  {
   "cell_type": "code",
   "execution_count": 39,
   "id": "64b86f03",
   "metadata": {},
   "outputs": [
    {
     "data": {
      "image/png": "[encoded data removed]",
      "text/plain": [
       "<Figure size 432x288 with 1 Axes>"
      ]
     },
     "metadata": {
      "needs_background": "light"
     },
     "output_type": "display_data"
    }
   ],
   "source": [
    "# Bar chart\n",
    "Department_hbar = final_df['department'].value_counts().sort_values(ascending=True).plot.barh(color = ['mediumseagreen'])\n",
    "\n",
    "Department_hbar.set_title(\"Department's Popularity\")\n",
    "plt.xlabel(\"Customer number\")\n",
    "plt.ylabel(\"\")\n",
    "plt.tight_layout()\n",
    "\n",
    "Department_hbar.figure.savefig(os.path.join(path,'04 Analysis','Visualizations', 'Department_hbar.png'))"
   ]
  },
  {
   "cell_type": "code",
   "execution_count": 40,
   "id": "d77e2df3",
   "metadata": {},
   "outputs": [],
   "source": [
    "# In order to seperate top 5 departments from the others, which can help marketing team focus on the most popular departments\n",
    "final_df.loc[(final_df['department']=='produce'),'Department Popularity'] = 'Top' \n",
    "final_df.loc[(final_df['department']=='dairy eggs'),'Department Popularity'] = 'Top'           \n",
    "final_df.loc[(final_df['department']=='snacks'),'Department Popularity'] = 'Top'              \n",
    "final_df.loc[(final_df['department']=='beverages'),'Department Popularity'] = 'Top'              \n",
    "final_df.loc[(final_df['department']=='frozen'),'Department Popularity'] = 'Top' "
   ]
  },
  {
   "cell_type": "code",
   "execution_count": 41,
   "id": "30e6c481",
   "metadata": {},
   "outputs": [
    {
     "data": {
      "text/plain": [
       "Top    20527104\n",
       "NaN     8739290\n",
       "Name: Department Popularity, dtype: int64"
      ]
     },
     "execution_count": 41,
     "metadata": {},
     "output_type": "execute_result"
    }
   ],
   "source": [
    "# Check the result\n",
    "final_df['Department Popularity'].value_counts(dropna =False)"
   ]
  },
  {
   "cell_type": "code",
   "execution_count": 42,
   "id": "bcc09bca",
   "metadata": {},
   "outputs": [],
   "source": [
    "# Replace NaN with Normal to seperate the departments\n",
    "final_df['Department Popularity'].fillna('Normal',inplace =True)"
   ]
  },
  {
   "cell_type": "code",
   "execution_count": 43,
   "id": "56bcb7d6",
   "metadata": {},
   "outputs": [
    {
     "data": {
      "text/plain": [
       "Top       20527104\n",
       "Normal     8739290\n",
       "Name: Department Popularity, dtype: int64"
      ]
     },
     "execution_count": 43,
     "metadata": {},
     "output_type": "execute_result"
    }
   ],
   "source": [
    "final_df['Department Popularity'].value_counts(dropna =False)"
   ]
  },
  {
   "cell_type": "code",
   "execution_count": 44,
   "id": "1afdc8d6",
   "metadata": {},
   "outputs": [],
   "source": [
    "# Create a subset only containing top 5 departments"
   ]
  },
  {
   "cell_type": "code",
   "execution_count": 45,
   "id": "1fc320bf",
   "metadata": {},
   "outputs": [],
   "source": [
    "popular_departments = final_df[final_df['Department Popularity']=='Top']"
   ]
  },
  {
   "cell_type": "code",
   "execution_count": 46,
   "id": "0b0a30f5",
   "metadata": {},
   "outputs": [
    {
     "data": {
      "text/html": [
       "<div>\n",
       "<style scoped>\n",
       "    .dataframe tbody tr th:only-of-type {\n",
       "        vertical-align: middle;\n",
       "    }\n",
       "\n",
       "    .dataframe tbody tr th {\n",
       "        vertical-align: top;\n",
       "    }\n",
       "\n",
       "    .dataframe thead th {\n",
       "        text-align: right;\n",
       "    }\n",
       "</style>\n",
       "<table border=\"1\" class=\"dataframe\">\n",
       "  <thead>\n",
       "    <tr style=\"text-align: right;\">\n",
       "      <th></th>\n",
       "      <th>user_id</th>\n",
       "      <th>gender</th>\n",
       "      <th>state</th>\n",
       "      <th>age</th>\n",
       "      <th>n_dependants</th>\n",
       "      <th>family_status</th>\n",
       "      <th>income</th>\n",
       "      <th>order_id</th>\n",
       "      <th>order_number</th>\n",
       "      <th>orders_day_of_week</th>\n",
       "      <th>...</th>\n",
       "      <th>frequency</th>\n",
       "      <th>frequency_flag</th>\n",
       "      <th>region</th>\n",
       "      <th>activity_flag</th>\n",
       "      <th>department</th>\n",
       "      <th>age_group</th>\n",
       "      <th>income_group</th>\n",
       "      <th>customer_profile</th>\n",
       "      <th>customer_profile_income</th>\n",
       "      <th>Department Popularity</th>\n",
       "    </tr>\n",
       "  </thead>\n",
       "  <tbody>\n",
       "    <tr>\n",
       "      <th>0</th>\n",
       "      <td>26711</td>\n",
       "      <td>Female</td>\n",
       "      <td>Missouri</td>\n",
       "      <td>48</td>\n",
       "      <td>3</td>\n",
       "      <td>married</td>\n",
       "      <td>165665</td>\n",
       "      <td>2543867</td>\n",
       "      <td>5</td>\n",
       "      <td>1</td>\n",
       "      <td>...</td>\n",
       "      <td>19.0</td>\n",
       "      <td>Regular customer</td>\n",
       "      <td>Midwest</td>\n",
       "      <td>normal_activity</td>\n",
       "      <td>beverages</td>\n",
       "      <td>45-54</td>\n",
       "      <td>high &gt;150K</td>\n",
       "      <td>typical married parent</td>\n",
       "      <td>married, high income</td>\n",
       "      <td>Top</td>\n",
       "    </tr>\n",
       "    <tr>\n",
       "      <th>1</th>\n",
       "      <td>26711</td>\n",
       "      <td>Female</td>\n",
       "      <td>Missouri</td>\n",
       "      <td>48</td>\n",
       "      <td>3</td>\n",
       "      <td>married</td>\n",
       "      <td>165665</td>\n",
       "      <td>1285508</td>\n",
       "      <td>7</td>\n",
       "      <td>5</td>\n",
       "      <td>...</td>\n",
       "      <td>19.0</td>\n",
       "      <td>Regular customer</td>\n",
       "      <td>Midwest</td>\n",
       "      <td>normal_activity</td>\n",
       "      <td>beverages</td>\n",
       "      <td>45-54</td>\n",
       "      <td>high &gt;150K</td>\n",
       "      <td>typical married parent</td>\n",
       "      <td>married, high income</td>\n",
       "      <td>Top</td>\n",
       "    </tr>\n",
       "    <tr>\n",
       "      <th>2</th>\n",
       "      <td>26711</td>\n",
       "      <td>Female</td>\n",
       "      <td>Missouri</td>\n",
       "      <td>48</td>\n",
       "      <td>3</td>\n",
       "      <td>married</td>\n",
       "      <td>165665</td>\n",
       "      <td>2578584</td>\n",
       "      <td>8</td>\n",
       "      <td>1</td>\n",
       "      <td>...</td>\n",
       "      <td>19.0</td>\n",
       "      <td>Regular customer</td>\n",
       "      <td>Midwest</td>\n",
       "      <td>normal_activity</td>\n",
       "      <td>beverages</td>\n",
       "      <td>45-54</td>\n",
       "      <td>high &gt;150K</td>\n",
       "      <td>typical married parent</td>\n",
       "      <td>married, high income</td>\n",
       "      <td>Top</td>\n",
       "    </tr>\n",
       "    <tr>\n",
       "      <th>3</th>\n",
       "      <td>33890</td>\n",
       "      <td>Female</td>\n",
       "      <td>New Mexico</td>\n",
       "      <td>36</td>\n",
       "      <td>0</td>\n",
       "      <td>single</td>\n",
       "      <td>59285</td>\n",
       "      <td>1044841</td>\n",
       "      <td>3</td>\n",
       "      <td>6</td>\n",
       "      <td>...</td>\n",
       "      <td>26.0</td>\n",
       "      <td>Non-frequent customer</td>\n",
       "      <td>West</td>\n",
       "      <td>normal_activity</td>\n",
       "      <td>beverages</td>\n",
       "      <td>35-44</td>\n",
       "      <td>low/middle 50-100K</td>\n",
       "      <td>single adult</td>\n",
       "      <td>single, low/middle income</td>\n",
       "      <td>Top</td>\n",
       "    </tr>\n",
       "    <tr>\n",
       "      <th>4</th>\n",
       "      <td>33890</td>\n",
       "      <td>Female</td>\n",
       "      <td>New Mexico</td>\n",
       "      <td>36</td>\n",
       "      <td>0</td>\n",
       "      <td>single</td>\n",
       "      <td>59285</td>\n",
       "      <td>474720</td>\n",
       "      <td>4</td>\n",
       "      <td>1</td>\n",
       "      <td>...</td>\n",
       "      <td>26.0</td>\n",
       "      <td>Non-frequent customer</td>\n",
       "      <td>West</td>\n",
       "      <td>normal_activity</td>\n",
       "      <td>beverages</td>\n",
       "      <td>35-44</td>\n",
       "      <td>low/middle 50-100K</td>\n",
       "      <td>single adult</td>\n",
       "      <td>single, low/middle income</td>\n",
       "      <td>Top</td>\n",
       "    </tr>\n",
       "  </tbody>\n",
       "</table>\n",
       "<p>5 rows × 37 columns</p>\n",
       "</div>"
      ],
      "text/plain": [
       "   user_id  gender       state  age  n_dependants family_status  income  \\\n",
       "0    26711  Female    Missouri   48             3       married  165665   \n",
       "1    26711  Female    Missouri   48             3       married  165665   \n",
       "2    26711  Female    Missouri   48             3       married  165665   \n",
       "3    33890  Female  New Mexico   36             0        single   59285   \n",
       "4    33890  Female  New Mexico   36             0        single   59285   \n",
       "\n",
       "   order_id  order_number  orders_day_of_week  ...  frequency  \\\n",
       "0   2543867             5                   1  ...       19.0   \n",
       "1   1285508             7                   5  ...       19.0   \n",
       "2   2578584             8                   1  ...       19.0   \n",
       "3   1044841             3                   6  ...       26.0   \n",
       "4    474720             4                   1  ...       26.0   \n",
       "\n",
       "          frequency_flag   region    activity_flag  department  age_group  \\\n",
       "0       Regular customer  Midwest  normal_activity   beverages      45-54   \n",
       "1       Regular customer  Midwest  normal_activity   beverages      45-54   \n",
       "2       Regular customer  Midwest  normal_activity   beverages      45-54   \n",
       "3  Non-frequent customer     West  normal_activity   beverages      35-44   \n",
       "4  Non-frequent customer     West  normal_activity   beverages      35-44   \n",
       "\n",
       "         income_group        customer_profile    customer_profile_income  \\\n",
       "0          high >150K  typical married parent       married, high income   \n",
       "1          high >150K  typical married parent       married, high income   \n",
       "2          high >150K  typical married parent       married, high income   \n",
       "3  low/middle 50-100K            single adult  single, low/middle income   \n",
       "4  low/middle 50-100K            single adult  single, low/middle income   \n",
       "\n",
       "   Department Popularity  \n",
       "0                    Top  \n",
       "1                    Top  \n",
       "2                    Top  \n",
       "3                    Top  \n",
       "4                    Top  \n",
       "\n",
       "[5 rows x 37 columns]"
      ]
     },
     "execution_count": 46,
     "metadata": {},
     "output_type": "execute_result"
    }
   ],
   "source": [
    "popular_departments.head()"
   ]
  },
  {
   "cell_type": "markdown",
   "id": "5a3cfefe",
   "metadata": {},
   "source": [
    "#### Product"
   ]
  },
  {
   "cell_type": "code",
   "execution_count": 47,
   "id": "33892647",
   "metadata": {},
   "outputs": [
    {
     "data": {
      "text/html": [
       "<div>\n",
       "<style scoped>\n",
       "    .dataframe tbody tr th:only-of-type {\n",
       "        vertical-align: middle;\n",
       "    }\n",
       "\n",
       "    .dataframe tbody tr th {\n",
       "        vertical-align: top;\n",
       "    }\n",
       "\n",
       "    .dataframe thead th {\n",
       "        text-align: right;\n",
       "    }\n",
       "</style>\n",
       "<table border=\"1\" class=\"dataframe\">\n",
       "  <thead>\n",
       "    <tr style=\"text-align: right;\">\n",
       "      <th></th>\n",
       "      <th>user_id</th>\n",
       "      <th>gender</th>\n",
       "      <th>state</th>\n",
       "      <th>age</th>\n",
       "      <th>n_dependants</th>\n",
       "      <th>family_status</th>\n",
       "      <th>income</th>\n",
       "      <th>order_id</th>\n",
       "      <th>order_number</th>\n",
       "      <th>orders_day_of_week</th>\n",
       "      <th>...</th>\n",
       "      <th>frequency</th>\n",
       "      <th>frequency_flag</th>\n",
       "      <th>region</th>\n",
       "      <th>activity_flag</th>\n",
       "      <th>department</th>\n",
       "      <th>age_group</th>\n",
       "      <th>income_group</th>\n",
       "      <th>customer_profile</th>\n",
       "      <th>customer_profile_income</th>\n",
       "      <th>Department Popularity</th>\n",
       "    </tr>\n",
       "  </thead>\n",
       "  <tbody>\n",
       "    <tr>\n",
       "      <th>0</th>\n",
       "      <td>26711</td>\n",
       "      <td>Female</td>\n",
       "      <td>Missouri</td>\n",
       "      <td>48</td>\n",
       "      <td>3</td>\n",
       "      <td>married</td>\n",
       "      <td>165665</td>\n",
       "      <td>2543867</td>\n",
       "      <td>5</td>\n",
       "      <td>1</td>\n",
       "      <td>...</td>\n",
       "      <td>19.0</td>\n",
       "      <td>Regular customer</td>\n",
       "      <td>Midwest</td>\n",
       "      <td>normal_activity</td>\n",
       "      <td>beverages</td>\n",
       "      <td>45-54</td>\n",
       "      <td>high &gt;150K</td>\n",
       "      <td>typical married parent</td>\n",
       "      <td>married, high income</td>\n",
       "      <td>Top</td>\n",
       "    </tr>\n",
       "    <tr>\n",
       "      <th>1</th>\n",
       "      <td>26711</td>\n",
       "      <td>Female</td>\n",
       "      <td>Missouri</td>\n",
       "      <td>48</td>\n",
       "      <td>3</td>\n",
       "      <td>married</td>\n",
       "      <td>165665</td>\n",
       "      <td>1285508</td>\n",
       "      <td>7</td>\n",
       "      <td>5</td>\n",
       "      <td>...</td>\n",
       "      <td>19.0</td>\n",
       "      <td>Regular customer</td>\n",
       "      <td>Midwest</td>\n",
       "      <td>normal_activity</td>\n",
       "      <td>beverages</td>\n",
       "      <td>45-54</td>\n",
       "      <td>high &gt;150K</td>\n",
       "      <td>typical married parent</td>\n",
       "      <td>married, high income</td>\n",
       "      <td>Top</td>\n",
       "    </tr>\n",
       "    <tr>\n",
       "      <th>2</th>\n",
       "      <td>26711</td>\n",
       "      <td>Female</td>\n",
       "      <td>Missouri</td>\n",
       "      <td>48</td>\n",
       "      <td>3</td>\n",
       "      <td>married</td>\n",
       "      <td>165665</td>\n",
       "      <td>2578584</td>\n",
       "      <td>8</td>\n",
       "      <td>1</td>\n",
       "      <td>...</td>\n",
       "      <td>19.0</td>\n",
       "      <td>Regular customer</td>\n",
       "      <td>Midwest</td>\n",
       "      <td>normal_activity</td>\n",
       "      <td>beverages</td>\n",
       "      <td>45-54</td>\n",
       "      <td>high &gt;150K</td>\n",
       "      <td>typical married parent</td>\n",
       "      <td>married, high income</td>\n",
       "      <td>Top</td>\n",
       "    </tr>\n",
       "    <tr>\n",
       "      <th>3</th>\n",
       "      <td>33890</td>\n",
       "      <td>Female</td>\n",
       "      <td>New Mexico</td>\n",
       "      <td>36</td>\n",
       "      <td>0</td>\n",
       "      <td>single</td>\n",
       "      <td>59285</td>\n",
       "      <td>1044841</td>\n",
       "      <td>3</td>\n",
       "      <td>6</td>\n",
       "      <td>...</td>\n",
       "      <td>26.0</td>\n",
       "      <td>Non-frequent customer</td>\n",
       "      <td>West</td>\n",
       "      <td>normal_activity</td>\n",
       "      <td>beverages</td>\n",
       "      <td>35-44</td>\n",
       "      <td>low/middle 50-100K</td>\n",
       "      <td>single adult</td>\n",
       "      <td>single, low/middle income</td>\n",
       "      <td>Top</td>\n",
       "    </tr>\n",
       "    <tr>\n",
       "      <th>4</th>\n",
       "      <td>33890</td>\n",
       "      <td>Female</td>\n",
       "      <td>New Mexico</td>\n",
       "      <td>36</td>\n",
       "      <td>0</td>\n",
       "      <td>single</td>\n",
       "      <td>59285</td>\n",
       "      <td>474720</td>\n",
       "      <td>4</td>\n",
       "      <td>1</td>\n",
       "      <td>...</td>\n",
       "      <td>26.0</td>\n",
       "      <td>Non-frequent customer</td>\n",
       "      <td>West</td>\n",
       "      <td>normal_activity</td>\n",
       "      <td>beverages</td>\n",
       "      <td>35-44</td>\n",
       "      <td>low/middle 50-100K</td>\n",
       "      <td>single adult</td>\n",
       "      <td>single, low/middle income</td>\n",
       "      <td>Top</td>\n",
       "    </tr>\n",
       "  </tbody>\n",
       "</table>\n",
       "<p>5 rows × 37 columns</p>\n",
       "</div>"
      ],
      "text/plain": [
       "   user_id  gender       state  age  n_dependants family_status  income  \\\n",
       "0    26711  Female    Missouri   48             3       married  165665   \n",
       "1    26711  Female    Missouri   48             3       married  165665   \n",
       "2    26711  Female    Missouri   48             3       married  165665   \n",
       "3    33890  Female  New Mexico   36             0        single   59285   \n",
       "4    33890  Female  New Mexico   36             0        single   59285   \n",
       "\n",
       "   order_id  order_number  orders_day_of_week  ...  frequency  \\\n",
       "0   2543867             5                   1  ...       19.0   \n",
       "1   1285508             7                   5  ...       19.0   \n",
       "2   2578584             8                   1  ...       19.0   \n",
       "3   1044841             3                   6  ...       26.0   \n",
       "4    474720             4                   1  ...       26.0   \n",
       "\n",
       "          frequency_flag   region    activity_flag  department  age_group  \\\n",
       "0       Regular customer  Midwest  normal_activity   beverages      45-54   \n",
       "1       Regular customer  Midwest  normal_activity   beverages      45-54   \n",
       "2       Regular customer  Midwest  normal_activity   beverages      45-54   \n",
       "3  Non-frequent customer     West  normal_activity   beverages      35-44   \n",
       "4  Non-frequent customer     West  normal_activity   beverages      35-44   \n",
       "\n",
       "         income_group        customer_profile    customer_profile_income  \\\n",
       "0          high >150K  typical married parent       married, high income   \n",
       "1          high >150K  typical married parent       married, high income   \n",
       "2          high >150K  typical married parent       married, high income   \n",
       "3  low/middle 50-100K            single adult  single, low/middle income   \n",
       "4  low/middle 50-100K            single adult  single, low/middle income   \n",
       "\n",
       "   Department Popularity  \n",
       "0                    Top  \n",
       "1                    Top  \n",
       "2                    Top  \n",
       "3                    Top  \n",
       "4                    Top  \n",
       "\n",
       "[5 rows x 37 columns]"
      ]
     },
     "execution_count": 47,
     "metadata": {},
     "output_type": "execute_result"
    }
   ],
   "source": [
    "final_df.head()"
   ]
  },
  {
   "cell_type": "code",
   "execution_count": 48,
   "id": "de160ba4",
   "metadata": {},
   "outputs": [],
   "source": [
    "Sales_by_product_name = final_df.groupby('product_name').agg({'prices' : ['sum']})"
   ]
  },
  {
   "cell_type": "code",
   "execution_count": 49,
   "id": "b7c29192",
   "metadata": {},
   "outputs": [],
   "source": [
    "Sales_by_product_name.to_clipboard()"
   ]
  },
  {
   "cell_type": "markdown",
   "id": "0d7b4a36",
   "metadata": {},
   "source": [
    "I used filter in Excel to put products in order. Some products are sold better than the others as we can find in the Excel file (Product Sales Revenue)."
   ]
  },
  {
   "cell_type": "code",
   "execution_count": 50,
   "id": "cadee5b7",
   "metadata": {},
   "outputs": [],
   "source": [
    "# Check if there is any characteristic which can be categorized. "
   ]
  },
  {
   "cell_type": "code",
   "execution_count": 51,
   "id": "af580ed6",
   "metadata": {},
   "outputs": [],
   "source": [
    "pd.set_option('display.max_columns',None)"
   ]
  },
  {
   "cell_type": "code",
   "execution_count": 52,
   "id": "6dafbad2",
   "metadata": {},
   "outputs": [
    {
     "data": {
      "text/html": [
       "<div>\n",
       "<style scoped>\n",
       "    .dataframe tbody tr th:only-of-type {\n",
       "        vertical-align: middle;\n",
       "    }\n",
       "\n",
       "    .dataframe tbody tr th {\n",
       "        vertical-align: top;\n",
       "    }\n",
       "\n",
       "    .dataframe thead th {\n",
       "        text-align: right;\n",
       "    }\n",
       "</style>\n",
       "<table border=\"1\" class=\"dataframe\">\n",
       "  <thead>\n",
       "    <tr style=\"text-align: right;\">\n",
       "      <th></th>\n",
       "      <th>user_id</th>\n",
       "      <th>gender</th>\n",
       "      <th>state</th>\n",
       "      <th>age</th>\n",
       "      <th>n_dependants</th>\n",
       "      <th>family_status</th>\n",
       "      <th>income</th>\n",
       "      <th>order_id</th>\n",
       "      <th>order_number</th>\n",
       "      <th>orders_day_of_week</th>\n",
       "      <th>order_time_of_day</th>\n",
       "      <th>days_since_prior_order</th>\n",
       "      <th>first_order</th>\n",
       "      <th>product_id</th>\n",
       "      <th>add_to_cart_order</th>\n",
       "      <th>reordered</th>\n",
       "      <th>product_name</th>\n",
       "      <th>aisle_id</th>\n",
       "      <th>department_id</th>\n",
       "      <th>prices</th>\n",
       "      <th>busiest_day</th>\n",
       "      <th>busiest_days</th>\n",
       "      <th>busiest_period_of_day</th>\n",
       "      <th>max_order</th>\n",
       "      <th>loyalty_flag</th>\n",
       "      <th>spending</th>\n",
       "      <th>spending_flag</th>\n",
       "      <th>frequency</th>\n",
       "      <th>frequency_flag</th>\n",
       "      <th>region</th>\n",
       "      <th>activity_flag</th>\n",
       "      <th>department</th>\n",
       "      <th>age_group</th>\n",
       "      <th>income_group</th>\n",
       "      <th>customer_profile</th>\n",
       "      <th>customer_profile_income</th>\n",
       "      <th>Department Popularity</th>\n",
       "    </tr>\n",
       "  </thead>\n",
       "  <tbody>\n",
       "    <tr>\n",
       "      <th>0</th>\n",
       "      <td>26711</td>\n",
       "      <td>Female</td>\n",
       "      <td>Missouri</td>\n",
       "      <td>48</td>\n",
       "      <td>3</td>\n",
       "      <td>married</td>\n",
       "      <td>165665</td>\n",
       "      <td>2543867</td>\n",
       "      <td>5</td>\n",
       "      <td>1</td>\n",
       "      <td>9</td>\n",
       "      <td>30.0</td>\n",
       "      <td>False</td>\n",
       "      <td>196</td>\n",
       "      <td>2</td>\n",
       "      <td>0</td>\n",
       "      <td>Soda</td>\n",
       "      <td>77</td>\n",
       "      <td>7</td>\n",
       "      <td>9.0</td>\n",
       "      <td>Regularly busy</td>\n",
       "      <td>Busiest days</td>\n",
       "      <td>Average orders</td>\n",
       "      <td>8</td>\n",
       "      <td>New customer</td>\n",
       "      <td>7.988281</td>\n",
       "      <td>Low spender</td>\n",
       "      <td>19.0</td>\n",
       "      <td>Regular customer</td>\n",
       "      <td>Midwest</td>\n",
       "      <td>normal_activity</td>\n",
       "      <td>beverages</td>\n",
       "      <td>45-54</td>\n",
       "      <td>high &gt;150K</td>\n",
       "      <td>typical married parent</td>\n",
       "      <td>married, high income</td>\n",
       "      <td>Top</td>\n",
       "    </tr>\n",
       "    <tr>\n",
       "      <th>1</th>\n",
       "      <td>26711</td>\n",
       "      <td>Female</td>\n",
       "      <td>Missouri</td>\n",
       "      <td>48</td>\n",
       "      <td>3</td>\n",
       "      <td>married</td>\n",
       "      <td>165665</td>\n",
       "      <td>1285508</td>\n",
       "      <td>7</td>\n",
       "      <td>5</td>\n",
       "      <td>15</td>\n",
       "      <td>11.0</td>\n",
       "      <td>False</td>\n",
       "      <td>196</td>\n",
       "      <td>1</td>\n",
       "      <td>1</td>\n",
       "      <td>Soda</td>\n",
       "      <td>77</td>\n",
       "      <td>7</td>\n",
       "      <td>9.0</td>\n",
       "      <td>Regularly busy</td>\n",
       "      <td>Regularly busy</td>\n",
       "      <td>Most orders</td>\n",
       "      <td>8</td>\n",
       "      <td>New customer</td>\n",
       "      <td>7.988281</td>\n",
       "      <td>Low spender</td>\n",
       "      <td>19.0</td>\n",
       "      <td>Regular customer</td>\n",
       "      <td>Midwest</td>\n",
       "      <td>normal_activity</td>\n",
       "      <td>beverages</td>\n",
       "      <td>45-54</td>\n",
       "      <td>high &gt;150K</td>\n",
       "      <td>typical married parent</td>\n",
       "      <td>married, high income</td>\n",
       "      <td>Top</td>\n",
       "    </tr>\n",
       "    <tr>\n",
       "      <th>2</th>\n",
       "      <td>26711</td>\n",
       "      <td>Female</td>\n",
       "      <td>Missouri</td>\n",
       "      <td>48</td>\n",
       "      <td>3</td>\n",
       "      <td>married</td>\n",
       "      <td>165665</td>\n",
       "      <td>2578584</td>\n",
       "      <td>8</td>\n",
       "      <td>1</td>\n",
       "      <td>15</td>\n",
       "      <td>10.0</td>\n",
       "      <td>False</td>\n",
       "      <td>196</td>\n",
       "      <td>2</td>\n",
       "      <td>1</td>\n",
       "      <td>Soda</td>\n",
       "      <td>77</td>\n",
       "      <td>7</td>\n",
       "      <td>9.0</td>\n",
       "      <td>Regularly busy</td>\n",
       "      <td>Busiest days</td>\n",
       "      <td>Most orders</td>\n",
       "      <td>8</td>\n",
       "      <td>New customer</td>\n",
       "      <td>7.988281</td>\n",
       "      <td>Low spender</td>\n",
       "      <td>19.0</td>\n",
       "      <td>Regular customer</td>\n",
       "      <td>Midwest</td>\n",
       "      <td>normal_activity</td>\n",
       "      <td>beverages</td>\n",
       "      <td>45-54</td>\n",
       "      <td>high &gt;150K</td>\n",
       "      <td>typical married parent</td>\n",
       "      <td>married, high income</td>\n",
       "      <td>Top</td>\n",
       "    </tr>\n",
       "    <tr>\n",
       "      <th>3</th>\n",
       "      <td>33890</td>\n",
       "      <td>Female</td>\n",
       "      <td>New Mexico</td>\n",
       "      <td>36</td>\n",
       "      <td>0</td>\n",
       "      <td>single</td>\n",
       "      <td>59285</td>\n",
       "      <td>1044841</td>\n",
       "      <td>3</td>\n",
       "      <td>6</td>\n",
       "      <td>11</td>\n",
       "      <td>30.0</td>\n",
       "      <td>False</td>\n",
       "      <td>196</td>\n",
       "      <td>1</td>\n",
       "      <td>0</td>\n",
       "      <td>Soda</td>\n",
       "      <td>77</td>\n",
       "      <td>7</td>\n",
       "      <td>9.0</td>\n",
       "      <td>Regularly busy</td>\n",
       "      <td>Regularly busy</td>\n",
       "      <td>Most orders</td>\n",
       "      <td>12</td>\n",
       "      <td>Regular customer</td>\n",
       "      <td>7.058594</td>\n",
       "      <td>Low spender</td>\n",
       "      <td>26.0</td>\n",
       "      <td>Non-frequent customer</td>\n",
       "      <td>West</td>\n",
       "      <td>normal_activity</td>\n",
       "      <td>beverages</td>\n",
       "      <td>35-44</td>\n",
       "      <td>low/middle 50-100K</td>\n",
       "      <td>single adult</td>\n",
       "      <td>single, low/middle income</td>\n",
       "      <td>Top</td>\n",
       "    </tr>\n",
       "    <tr>\n",
       "      <th>4</th>\n",
       "      <td>33890</td>\n",
       "      <td>Female</td>\n",
       "      <td>New Mexico</td>\n",
       "      <td>36</td>\n",
       "      <td>0</td>\n",
       "      <td>single</td>\n",
       "      <td>59285</td>\n",
       "      <td>474720</td>\n",
       "      <td>4</td>\n",
       "      <td>1</td>\n",
       "      <td>20</td>\n",
       "      <td>16.0</td>\n",
       "      <td>False</td>\n",
       "      <td>196</td>\n",
       "      <td>6</td>\n",
       "      <td>1</td>\n",
       "      <td>Soda</td>\n",
       "      <td>77</td>\n",
       "      <td>7</td>\n",
       "      <td>9.0</td>\n",
       "      <td>Regularly busy</td>\n",
       "      <td>Busiest days</td>\n",
       "      <td>Average orders</td>\n",
       "      <td>12</td>\n",
       "      <td>Regular customer</td>\n",
       "      <td>7.058594</td>\n",
       "      <td>Low spender</td>\n",
       "      <td>26.0</td>\n",
       "      <td>Non-frequent customer</td>\n",
       "      <td>West</td>\n",
       "      <td>normal_activity</td>\n",
       "      <td>beverages</td>\n",
       "      <td>35-44</td>\n",
       "      <td>low/middle 50-100K</td>\n",
       "      <td>single adult</td>\n",
       "      <td>single, low/middle income</td>\n",
       "      <td>Top</td>\n",
       "    </tr>\n",
       "  </tbody>\n",
       "</table>\n",
       "</div>"
      ],
      "text/plain": [
       "   user_id  gender       state  age  n_dependants family_status  income  \\\n",
       "0    26711  Female    Missouri   48             3       married  165665   \n",
       "1    26711  Female    Missouri   48             3       married  165665   \n",
       "2    26711  Female    Missouri   48             3       married  165665   \n",
       "3    33890  Female  New Mexico   36             0        single   59285   \n",
       "4    33890  Female  New Mexico   36             0        single   59285   \n",
       "\n",
       "   order_id  order_number  orders_day_of_week  order_time_of_day  \\\n",
       "0   2543867             5                   1                  9   \n",
       "1   1285508             7                   5                 15   \n",
       "2   2578584             8                   1                 15   \n",
       "3   1044841             3                   6                 11   \n",
       "4    474720             4                   1                 20   \n",
       "\n",
       "   days_since_prior_order  first_order  product_id  add_to_cart_order  \\\n",
       "0                    30.0        False         196                  2   \n",
       "1                    11.0        False         196                  1   \n",
       "2                    10.0        False         196                  2   \n",
       "3                    30.0        False         196                  1   \n",
       "4                    16.0        False         196                  6   \n",
       "\n",
       "   reordered product_name  aisle_id  department_id  prices     busiest_day  \\\n",
       "0          0         Soda        77              7     9.0  Regularly busy   \n",
       "1          1         Soda        77              7     9.0  Regularly busy   \n",
       "2          1         Soda        77              7     9.0  Regularly busy   \n",
       "3          0         Soda        77              7     9.0  Regularly busy   \n",
       "4          1         Soda        77              7     9.0  Regularly busy   \n",
       "\n",
       "     busiest_days busiest_period_of_day  max_order      loyalty_flag  \\\n",
       "0    Busiest days        Average orders          8      New customer   \n",
       "1  Regularly busy           Most orders          8      New customer   \n",
       "2    Busiest days           Most orders          8      New customer   \n",
       "3  Regularly busy           Most orders         12  Regular customer   \n",
       "4    Busiest days        Average orders         12  Regular customer   \n",
       "\n",
       "   spending spending_flag  frequency         frequency_flag   region  \\\n",
       "0  7.988281   Low spender       19.0       Regular customer  Midwest   \n",
       "1  7.988281   Low spender       19.0       Regular customer  Midwest   \n",
       "2  7.988281   Low spender       19.0       Regular customer  Midwest   \n",
       "3  7.058594   Low spender       26.0  Non-frequent customer     West   \n",
       "4  7.058594   Low spender       26.0  Non-frequent customer     West   \n",
       "\n",
       "     activity_flag department age_group        income_group  \\\n",
       "0  normal_activity  beverages     45-54          high >150K   \n",
       "1  normal_activity  beverages     45-54          high >150K   \n",
       "2  normal_activity  beverages     45-54          high >150K   \n",
       "3  normal_activity  beverages     35-44  low/middle 50-100K   \n",
       "4  normal_activity  beverages     35-44  low/middle 50-100K   \n",
       "\n",
       "         customer_profile    customer_profile_income Department Popularity  \n",
       "0  typical married parent       married, high income                   Top  \n",
       "1  typical married parent       married, high income                   Top  \n",
       "2  typical married parent       married, high income                   Top  \n",
       "3            single adult  single, low/middle income                   Top  \n",
       "4            single adult  single, low/middle income                   Top  "
      ]
     },
     "execution_count": 52,
     "metadata": {},
     "output_type": "execute_result"
    }
   ],
   "source": [
    "final_df.head()"
   ]
  },
  {
   "cell_type": "code",
   "execution_count": 53,
   "id": "5e68bfe5",
   "metadata": {},
   "outputs": [],
   "source": [
    "# Change the orders_day_of_week to make it more clear and visible"
   ]
  },
  {
   "cell_type": "code",
   "execution_count": 54,
   "id": "6f3f3543",
   "metadata": {},
   "outputs": [
    {
     "data": {
      "text/plain": [
       "0    5584939\n",
       "1    5119534\n",
       "6    4053142\n",
       "5    3813081\n",
       "2    3804785\n",
       "3    3465892\n",
       "4    3425021\n",
       "Name: orders_day_of_week, dtype: int64"
      ]
     },
     "execution_count": 54,
     "metadata": {},
     "output_type": "execute_result"
    }
   ],
   "source": [
    "final_df['orders_day_of_week'].value_counts()"
   ]
  },
  {
   "cell_type": "code",
   "execution_count": 55,
   "id": "770743aa",
   "metadata": {},
   "outputs": [],
   "source": [
    "# Create ordering_day_of_week by loc functions\n",
    "final_df.loc[final_df['orders_day_of_week'] == 0, 'ordering_day_of_week'] = 'Saturday'\n",
    "final_df.loc[final_df['orders_day_of_week'] == 1, 'ordering_day_of_week'] = 'Sunday'\n",
    "final_df.loc[final_df['orders_day_of_week'] == 2, 'ordering_day_of_week'] = 'Monday'\n",
    "final_df.loc[final_df['orders_day_of_week'] == 3, 'ordering_day_of_week'] = 'Tuesday'\n",
    "final_df.loc[final_df['orders_day_of_week'] == 4, 'ordering_day_of_week'] = 'Wednesday'\n",
    "final_df.loc[final_df['orders_day_of_week'] == 5, 'ordering_day_of_week'] = 'Thursday'\n",
    "final_df.loc[final_df['orders_day_of_week'] == 6, 'ordering_day_of_week'] = 'Friday'"
   ]
  },
  {
   "cell_type": "code",
   "execution_count": 56,
   "id": "9ca7e653",
   "metadata": {},
   "outputs": [
    {
     "data": {
      "text/html": [
       "<div>\n",
       "<style scoped>\n",
       "    .dataframe tbody tr th:only-of-type {\n",
       "        vertical-align: middle;\n",
       "    }\n",
       "\n",
       "    .dataframe tbody tr th {\n",
       "        vertical-align: top;\n",
       "    }\n",
       "\n",
       "    .dataframe thead th {\n",
       "        text-align: right;\n",
       "    }\n",
       "</style>\n",
       "<table border=\"1\" class=\"dataframe\">\n",
       "  <thead>\n",
       "    <tr style=\"text-align: right;\">\n",
       "      <th></th>\n",
       "      <th>user_id</th>\n",
       "      <th>gender</th>\n",
       "      <th>state</th>\n",
       "      <th>age</th>\n",
       "      <th>n_dependants</th>\n",
       "      <th>family_status</th>\n",
       "      <th>income</th>\n",
       "      <th>order_id</th>\n",
       "      <th>order_number</th>\n",
       "      <th>orders_day_of_week</th>\n",
       "      <th>order_time_of_day</th>\n",
       "      <th>days_since_prior_order</th>\n",
       "      <th>first_order</th>\n",
       "      <th>product_id</th>\n",
       "      <th>add_to_cart_order</th>\n",
       "      <th>reordered</th>\n",
       "      <th>product_name</th>\n",
       "      <th>aisle_id</th>\n",
       "      <th>department_id</th>\n",
       "      <th>prices</th>\n",
       "      <th>busiest_day</th>\n",
       "      <th>busiest_days</th>\n",
       "      <th>busiest_period_of_day</th>\n",
       "      <th>max_order</th>\n",
       "      <th>loyalty_flag</th>\n",
       "      <th>spending</th>\n",
       "      <th>spending_flag</th>\n",
       "      <th>frequency</th>\n",
       "      <th>frequency_flag</th>\n",
       "      <th>region</th>\n",
       "      <th>activity_flag</th>\n",
       "      <th>department</th>\n",
       "      <th>age_group</th>\n",
       "      <th>income_group</th>\n",
       "      <th>customer_profile</th>\n",
       "      <th>customer_profile_income</th>\n",
       "      <th>Department Popularity</th>\n",
       "      <th>ordering_day_of_week</th>\n",
       "    </tr>\n",
       "  </thead>\n",
       "  <tbody>\n",
       "    <tr>\n",
       "      <th>0</th>\n",
       "      <td>26711</td>\n",
       "      <td>Female</td>\n",
       "      <td>Missouri</td>\n",
       "      <td>48</td>\n",
       "      <td>3</td>\n",
       "      <td>married</td>\n",
       "      <td>165665</td>\n",
       "      <td>2543867</td>\n",
       "      <td>5</td>\n",
       "      <td>1</td>\n",
       "      <td>9</td>\n",
       "      <td>30.0</td>\n",
       "      <td>False</td>\n",
       "      <td>196</td>\n",
       "      <td>2</td>\n",
       "      <td>0</td>\n",
       "      <td>Soda</td>\n",
       "      <td>77</td>\n",
       "      <td>7</td>\n",
       "      <td>9.0</td>\n",
       "      <td>Regularly busy</td>\n",
       "      <td>Busiest days</td>\n",
       "      <td>Average orders</td>\n",
       "      <td>8</td>\n",
       "      <td>New customer</td>\n",
       "      <td>7.988281</td>\n",
       "      <td>Low spender</td>\n",
       "      <td>19.0</td>\n",
       "      <td>Regular customer</td>\n",
       "      <td>Midwest</td>\n",
       "      <td>normal_activity</td>\n",
       "      <td>beverages</td>\n",
       "      <td>45-54</td>\n",
       "      <td>high &gt;150K</td>\n",
       "      <td>typical married parent</td>\n",
       "      <td>married, high income</td>\n",
       "      <td>Top</td>\n",
       "      <td>Sunday</td>\n",
       "    </tr>\n",
       "    <tr>\n",
       "      <th>1</th>\n",
       "      <td>26711</td>\n",
       "      <td>Female</td>\n",
       "      <td>Missouri</td>\n",
       "      <td>48</td>\n",
       "      <td>3</td>\n",
       "      <td>married</td>\n",
       "      <td>165665</td>\n",
       "      <td>1285508</td>\n",
       "      <td>7</td>\n",
       "      <td>5</td>\n",
       "      <td>15</td>\n",
       "      <td>11.0</td>\n",
       "      <td>False</td>\n",
       "      <td>196</td>\n",
       "      <td>1</td>\n",
       "      <td>1</td>\n",
       "      <td>Soda</td>\n",
       "      <td>77</td>\n",
       "      <td>7</td>\n",
       "      <td>9.0</td>\n",
       "      <td>Regularly busy</td>\n",
       "      <td>Regularly busy</td>\n",
       "      <td>Most orders</td>\n",
       "      <td>8</td>\n",
       "      <td>New customer</td>\n",
       "      <td>7.988281</td>\n",
       "      <td>Low spender</td>\n",
       "      <td>19.0</td>\n",
       "      <td>Regular customer</td>\n",
       "      <td>Midwest</td>\n",
       "      <td>normal_activity</td>\n",
       "      <td>beverages</td>\n",
       "      <td>45-54</td>\n",
       "      <td>high &gt;150K</td>\n",
       "      <td>typical married parent</td>\n",
       "      <td>married, high income</td>\n",
       "      <td>Top</td>\n",
       "      <td>Thursday</td>\n",
       "    </tr>\n",
       "    <tr>\n",
       "      <th>2</th>\n",
       "      <td>26711</td>\n",
       "      <td>Female</td>\n",
       "      <td>Missouri</td>\n",
       "      <td>48</td>\n",
       "      <td>3</td>\n",
       "      <td>married</td>\n",
       "      <td>165665</td>\n",
       "      <td>2578584</td>\n",
       "      <td>8</td>\n",
       "      <td>1</td>\n",
       "      <td>15</td>\n",
       "      <td>10.0</td>\n",
       "      <td>False</td>\n",
       "      <td>196</td>\n",
       "      <td>2</td>\n",
       "      <td>1</td>\n",
       "      <td>Soda</td>\n",
       "      <td>77</td>\n",
       "      <td>7</td>\n",
       "      <td>9.0</td>\n",
       "      <td>Regularly busy</td>\n",
       "      <td>Busiest days</td>\n",
       "      <td>Most orders</td>\n",
       "      <td>8</td>\n",
       "      <td>New customer</td>\n",
       "      <td>7.988281</td>\n",
       "      <td>Low spender</td>\n",
       "      <td>19.0</td>\n",
       "      <td>Regular customer</td>\n",
       "      <td>Midwest</td>\n",
       "      <td>normal_activity</td>\n",
       "      <td>beverages</td>\n",
       "      <td>45-54</td>\n",
       "      <td>high &gt;150K</td>\n",
       "      <td>typical married parent</td>\n",
       "      <td>married, high income</td>\n",
       "      <td>Top</td>\n",
       "      <td>Sunday</td>\n",
       "    </tr>\n",
       "    <tr>\n",
       "      <th>3</th>\n",
       "      <td>33890</td>\n",
       "      <td>Female</td>\n",
       "      <td>New Mexico</td>\n",
       "      <td>36</td>\n",
       "      <td>0</td>\n",
       "      <td>single</td>\n",
       "      <td>59285</td>\n",
       "      <td>1044841</td>\n",
       "      <td>3</td>\n",
       "      <td>6</td>\n",
       "      <td>11</td>\n",
       "      <td>30.0</td>\n",
       "      <td>False</td>\n",
       "      <td>196</td>\n",
       "      <td>1</td>\n",
       "      <td>0</td>\n",
       "      <td>Soda</td>\n",
       "      <td>77</td>\n",
       "      <td>7</td>\n",
       "      <td>9.0</td>\n",
       "      <td>Regularly busy</td>\n",
       "      <td>Regularly busy</td>\n",
       "      <td>Most orders</td>\n",
       "      <td>12</td>\n",
       "      <td>Regular customer</td>\n",
       "      <td>7.058594</td>\n",
       "      <td>Low spender</td>\n",
       "      <td>26.0</td>\n",
       "      <td>Non-frequent customer</td>\n",
       "      <td>West</td>\n",
       "      <td>normal_activity</td>\n",
       "      <td>beverages</td>\n",
       "      <td>35-44</td>\n",
       "      <td>low/middle 50-100K</td>\n",
       "      <td>single adult</td>\n",
       "      <td>single, low/middle income</td>\n",
       "      <td>Top</td>\n",
       "      <td>Friday</td>\n",
       "    </tr>\n",
       "    <tr>\n",
       "      <th>4</th>\n",
       "      <td>33890</td>\n",
       "      <td>Female</td>\n",
       "      <td>New Mexico</td>\n",
       "      <td>36</td>\n",
       "      <td>0</td>\n",
       "      <td>single</td>\n",
       "      <td>59285</td>\n",
       "      <td>474720</td>\n",
       "      <td>4</td>\n",
       "      <td>1</td>\n",
       "      <td>20</td>\n",
       "      <td>16.0</td>\n",
       "      <td>False</td>\n",
       "      <td>196</td>\n",
       "      <td>6</td>\n",
       "      <td>1</td>\n",
       "      <td>Soda</td>\n",
       "      <td>77</td>\n",
       "      <td>7</td>\n",
       "      <td>9.0</td>\n",
       "      <td>Regularly busy</td>\n",
       "      <td>Busiest days</td>\n",
       "      <td>Average orders</td>\n",
       "      <td>12</td>\n",
       "      <td>Regular customer</td>\n",
       "      <td>7.058594</td>\n",
       "      <td>Low spender</td>\n",
       "      <td>26.0</td>\n",
       "      <td>Non-frequent customer</td>\n",
       "      <td>West</td>\n",
       "      <td>normal_activity</td>\n",
       "      <td>beverages</td>\n",
       "      <td>35-44</td>\n",
       "      <td>low/middle 50-100K</td>\n",
       "      <td>single adult</td>\n",
       "      <td>single, low/middle income</td>\n",
       "      <td>Top</td>\n",
       "      <td>Sunday</td>\n",
       "    </tr>\n",
       "  </tbody>\n",
       "</table>\n",
       "</div>"
      ],
      "text/plain": [
       "   user_id  gender       state  age  n_dependants family_status  income  \\\n",
       "0    26711  Female    Missouri   48             3       married  165665   \n",
       "1    26711  Female    Missouri   48             3       married  165665   \n",
       "2    26711  Female    Missouri   48             3       married  165665   \n",
       "3    33890  Female  New Mexico   36             0        single   59285   \n",
       "4    33890  Female  New Mexico   36             0        single   59285   \n",
       "\n",
       "   order_id  order_number  orders_day_of_week  order_time_of_day  \\\n",
       "0   2543867             5                   1                  9   \n",
       "1   1285508             7                   5                 15   \n",
       "2   2578584             8                   1                 15   \n",
       "3   1044841             3                   6                 11   \n",
       "4    474720             4                   1                 20   \n",
       "\n",
       "   days_since_prior_order  first_order  product_id  add_to_cart_order  \\\n",
       "0                    30.0        False         196                  2   \n",
       "1                    11.0        False         196                  1   \n",
       "2                    10.0        False         196                  2   \n",
       "3                    30.0        False         196                  1   \n",
       "4                    16.0        False         196                  6   \n",
       "\n",
       "   reordered product_name  aisle_id  department_id  prices     busiest_day  \\\n",
       "0          0         Soda        77              7     9.0  Regularly busy   \n",
       "1          1         Soda        77              7     9.0  Regularly busy   \n",
       "2          1         Soda        77              7     9.0  Regularly busy   \n",
       "3          0         Soda        77              7     9.0  Regularly busy   \n",
       "4          1         Soda        77              7     9.0  Regularly busy   \n",
       "\n",
       "     busiest_days busiest_period_of_day  max_order      loyalty_flag  \\\n",
       "0    Busiest days        Average orders          8      New customer   \n",
       "1  Regularly busy           Most orders          8      New customer   \n",
       "2    Busiest days           Most orders          8      New customer   \n",
       "3  Regularly busy           Most orders         12  Regular customer   \n",
       "4    Busiest days        Average orders         12  Regular customer   \n",
       "\n",
       "   spending spending_flag  frequency         frequency_flag   region  \\\n",
       "0  7.988281   Low spender       19.0       Regular customer  Midwest   \n",
       "1  7.988281   Low spender       19.0       Regular customer  Midwest   \n",
       "2  7.988281   Low spender       19.0       Regular customer  Midwest   \n",
       "3  7.058594   Low spender       26.0  Non-frequent customer     West   \n",
       "4  7.058594   Low spender       26.0  Non-frequent customer     West   \n",
       "\n",
       "     activity_flag department age_group        income_group  \\\n",
       "0  normal_activity  beverages     45-54          high >150K   \n",
       "1  normal_activity  beverages     45-54          high >150K   \n",
       "2  normal_activity  beverages     45-54          high >150K   \n",
       "3  normal_activity  beverages     35-44  low/middle 50-100K   \n",
       "4  normal_activity  beverages     35-44  low/middle 50-100K   \n",
       "\n",
       "         customer_profile    customer_profile_income Department Popularity  \\\n",
       "0  typical married parent       married, high income                   Top   \n",
       "1  typical married parent       married, high income                   Top   \n",
       "2  typical married parent       married, high income                   Top   \n",
       "3            single adult  single, low/middle income                   Top   \n",
       "4            single adult  single, low/middle income                   Top   \n",
       "\n",
       "  ordering_day_of_week  \n",
       "0               Sunday  \n",
       "1             Thursday  \n",
       "2               Sunday  \n",
       "3               Friday  \n",
       "4               Sunday  "
      ]
     },
     "execution_count": 56,
     "metadata": {},
     "output_type": "execute_result"
    }
   ],
   "source": [
    "final_df.head()"
   ]
  },
  {
   "cell_type": "code",
   "execution_count": 57,
   "id": "2c96d132",
   "metadata": {},
   "outputs": [],
   "source": [
    "# Exporting\n",
    "final_df.to_pickle(os.path.join(path,'02 Data','Prepared Data','merge_with_customer_profile.pkl'))"
   ]
  }
 ],
 "metadata": {
  "kernelspec": {
   "display_name": "Python 3 (ipykernel)",
   "language": "python",
   "name": "python3"
  },
  "language_info": {
   "codemirror_mode": {
    "name": "ipython",
    "version": 3
   },
   "file_extension": ".py",
   "mimetype": "text/x-python",
   "name": "python",
   "nbconvert_exporter": "python",
   "pygments_lexer": "ipython3",
   "version": "3.9.7"
  }
 },
 "nbformat": 4,
 "nbformat_minor": 5
}
