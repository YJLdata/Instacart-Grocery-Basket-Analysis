{
 "cells": [
  {
   "cell_type": "markdown",
   "id": "3f62cf03",
   "metadata": {},
   "source": [
    "## 01. Import Libraries"
   ]
  },
  {
   "cell_type": "code",
   "execution_count": 1,
   "id": "12947a60",
   "metadata": {},
   "outputs": [],
   "source": [
    "import pandas as pd\n",
    "import numpy as np\n",
    "import os"
   ]
  },
  {
   "cell_type": "markdown",
   "id": "5a06f113",
   "metadata": {},
   "source": [
    "## 02. Import Data Sets"
   ]
  },
  {
   "cell_type": "code",
   "execution_count": 2,
   "id": "d08ea337",
   "metadata": {},
   "outputs": [],
   "source": [
    "path = r'D:\\02.2022_Instacart Basket Analysis'"
   ]
  },
  {
   "cell_type": "code",
   "execution_count": 3,
   "id": "111f4c46",
   "metadata": {},
   "outputs": [],
   "source": [
    "ords_prods_merge = pd.read_pickle(os.path.join(path,'02 Data','Prepared Data','order_product_merge_f.pkl'))"
   ]
  },
  {
   "cell_type": "code",
   "execution_count": 4,
   "id": "a15110fd",
   "metadata": {},
   "outputs": [
    {
     "name": "stdout",
     "output_type": "stream",
     "text": [
      "<class 'pandas.core.frame.DataFrame'>\n",
      "Int64Index: 32399732 entries, 0 to 32435058\n",
      "Data columns (total 15 columns):\n",
      " #   Column                  Dtype   \n",
      "---  ------                  -----   \n",
      " 0   order_id                float64 \n",
      " 1   user_id                 float64 \n",
      " 2   order_number            float64 \n",
      " 3   orders_day_of_week      float64 \n",
      " 4   order_time_of_day       float64 \n",
      " 5   days_since_prior_order  float16 \n",
      " 6   first_order             object  \n",
      " 7   product_id              float64 \n",
      " 8   add_to_cart_order       float64 \n",
      " 9   reordered               float64 \n",
      " 10  product_name            object  \n",
      " 11  aisle_id                float64 \n",
      " 12  department_id           float64 \n",
      " 13  prices                  float16 \n",
      " 14  _merge                  category\n",
      "dtypes: category(1), float16(2), float64(10), object(2)\n",
      "memory usage: 3.3+ GB\n"
     ]
    }
   ],
   "source": [
    "ords_prods_merge.info()"
   ]
  },
  {
   "cell_type": "code",
   "execution_count": 43,
   "id": "e2f2bfbc",
   "metadata": {},
   "outputs": [
    {
     "data": {
      "text/plain": [
       "(32399732, 15)"
      ]
     },
     "execution_count": 43,
     "metadata": {},
     "output_type": "execute_result"
    }
   ],
   "source": [
    "ords_prods_merge.shape"
   ]
  },
  {
   "cell_type": "code",
   "execution_count": 41,
   "id": "5f6755b0",
   "metadata": {},
   "outputs": [
    {
     "data": {
      "text/plain": [
       "Index(['order_id', 'user_id', 'order_number', 'orders_day_of_week',\n",
       "       'order_time_of_day', 'days_since_prior_order', 'first_order',\n",
       "       'product_id', 'add_to_cart_order', 'reordered', 'product_name',\n",
       "       'aisle_id', 'department_id', 'prices', '_merge'],\n",
       "      dtype='object')"
      ]
     },
     "execution_count": 41,
     "metadata": {},
     "output_type": "execute_result"
    }
   ],
   "source": [
    "ords_prods_merge.columns"
   ]
  },
  {
   "cell_type": "code",
   "execution_count": 44,
   "id": "f0289269",
   "metadata": {},
   "outputs": [],
   "source": [
    "ords_prods_merge = ords_prods_merge.drop(columns = ['_merge'])"
   ]
  },
  {
   "cell_type": "code",
   "execution_count": 45,
   "id": "3c58615e",
   "metadata": {},
   "outputs": [
    {
     "data": {
      "text/plain": [
       "(32399732, 14)"
      ]
     },
     "execution_count": 45,
     "metadata": {},
     "output_type": "execute_result"
    }
   ],
   "source": [
    "ords_prods_merge.shape"
   ]
  },
  {
   "cell_type": "markdown",
   "id": "73fce51c",
   "metadata": {},
   "source": [
    "## 03. Exercise Walk through"
   ]
  },
  {
   "cell_type": "markdown",
   "id": "d68b3fce",
   "metadata": {},
   "source": [
    "### If-Statements with User-Defined Functions"
   ]
  },
  {
   "cell_type": "code",
   "execution_count": 46,
   "id": "3d1a51e6",
   "metadata": {},
   "outputs": [],
   "source": [
    "# Create a subset\n",
    "df = ords_prods_merge[:1000000]"
   ]
  },
  {
   "cell_type": "code",
   "execution_count": 47,
   "id": "6bee1117",
   "metadata": {},
   "outputs": [
    {
     "data": {
      "text/plain": [
       "(1000000, 14)"
      ]
     },
     "execution_count": 47,
     "metadata": {},
     "output_type": "execute_result"
    }
   ],
   "source": [
    "df.shape"
   ]
  },
  {
   "cell_type": "code",
   "execution_count": 48,
   "id": "29f80d56",
   "metadata": {},
   "outputs": [],
   "source": [
    "# User-defined function: categorize prices in different ranges\n",
    "def price_label(row):\n",
    "    \n",
    "    if row['prices'] <= 5:\n",
    "        return 'Low-range product'\n",
    "    elif(row['prices'] > 5) and (row['prices'] <= 15):\n",
    "        return 'Mid-range product'\n",
    "    elif(row['price'] > 15):\n",
    "        return 'High-range product'\n",
    "    else: return 'Not enough data'"
   ]
  },
  {
   "cell_type": "code",
   "execution_count": 49,
   "id": "3a79b520",
   "metadata": {},
   "outputs": [
    {
     "name": "stderr",
     "output_type": "stream",
     "text": [
      "C:\\Users\\X405U\\AppData\\Local\\Temp/ipykernel_10436/523100087.py:2: SettingWithCopyWarning: \n",
      "A value is trying to be set on a copy of a slice from a DataFrame.\n",
      "Try using .loc[row_indexer,col_indexer] = value instead\n",
      "\n",
      "See the caveats in the documentation: https://pandas.pydata.org/pandas-docs/stable/user_guide/indexing.html#returning-a-view-versus-a-copy\n",
      "  df['price_range'] = df.apply(price_label, axis = 1)\n"
     ]
    }
   ],
   "source": [
    "# Assign the column to return value\n",
    "df['price_range'] = df.apply(price_label, axis = 1) "
   ]
  },
  {
   "cell_type": "markdown",
   "id": "0ee9040a",
   "metadata": {},
   "source": [
    "### If-Statements with the loc() Functions"
   ]
  },
  {
   "cell_type": "code",
   "execution_count": 51,
   "id": "2700ce30",
   "metadata": {},
   "outputs": [
    {
     "name": "stderr",
     "output_type": "stream",
     "text": [
      "D:\\Anaconda\\lib\\site-packages\\pandas\\core\\indexing.py:1684: SettingWithCopyWarning: \n",
      "A value is trying to be set on a copy of a slice from a DataFrame.\n",
      "Try using .loc[row_indexer,col_indexer] = value instead\n",
      "\n",
      "See the caveats in the documentation: https://pandas.pydata.org/pandas-docs/stable/user_guide/indexing.html#returning-a-view-versus-a-copy\n",
      "  self.obj[key] = infer_fill_value(value)\n",
      "D:\\Anaconda\\lib\\site-packages\\pandas\\core\\indexing.py:1817: SettingWithCopyWarning: \n",
      "A value is trying to be set on a copy of a slice from a DataFrame.\n",
      "Try using .loc[row_indexer,col_indexer] = value instead\n",
      "\n",
      "See the caveats in the documentation: https://pandas.pydata.org/pandas-docs/stable/user_guide/indexing.html#returning-a-view-versus-a-copy\n",
      "  self._setitem_single_column(loc, value, pi)\n"
     ]
    }
   ],
   "source": [
    "# Loc() function: categorize prices in different ranges\n",
    "df.loc[df['prices'] > 15,'price_range_loc'] = 'High-range product'\n",
    "df.loc[(df['prices'] <= 15) & (df['prices'] > 5), 'price_range_loc'] = 'Mid-range product'\n",
    "df.loc[df['prices'] <= 5, 'price_range_loc'] = 'low-range product'"
   ]
  },
  {
   "cell_type": "code",
   "execution_count": 52,
   "id": "e7475382",
   "metadata": {},
   "outputs": [
    {
     "data": {
      "text/plain": [
       "Mid-range product    756450\n",
       "low-range product    243550\n",
       "Name: price_range_loc, dtype: int64"
      ]
     },
     "execution_count": 52,
     "metadata": {},
     "output_type": "execute_result"
    }
   ],
   "source": [
    "# Check the result of loc functions \n",
    "df['price_range_loc'].value_counts(dropna = False)"
   ]
  },
  {
   "cell_type": "markdown",
   "id": "327caacb",
   "metadata": {},
   "source": [
    "### If-Statements with For-Loops"
   ]
  },
  {
   "cell_type": "code",
   "execution_count": 57,
   "id": "2ca174ad",
   "metadata": {},
   "outputs": [
    {
     "data": {
      "text/plain": [
       "Index(['order_id', 'user_id', 'order_number', 'orders_day_of_week',\n",
       "       'order_time_of_day', 'days_since_prior_order', 'first_order',\n",
       "       'product_id', 'add_to_cart_order', 'reordered', 'product_name',\n",
       "       'aisle_id', 'department_id', 'prices'],\n",
       "      dtype='object')"
      ]
     },
     "execution_count": 57,
     "metadata": {},
     "output_type": "execute_result"
    }
   ],
   "source": [
    "# Check the columns of ords_prods_merge\n",
    "ords_prods_merge.columns"
   ]
  },
  {
   "cell_type": "code",
   "execution_count": 58,
   "id": "27f5319f",
   "metadata": {},
   "outputs": [
    {
     "data": {
      "text/plain": [
       "0.0    6203329\n",
       "1.0    5659298\n",
       "6.0    4495887\n",
       "2.0    4213105\n",
       "5.0    4205076\n",
       "3.0    3839865\n",
       "4.0    3783172\n",
       "Name: orders_day_of_week, dtype: int64"
      ]
     },
     "execution_count": 58,
     "metadata": {},
     "output_type": "execute_result"
    }
   ],
   "source": [
    "# Check the frequency of ordering days\n",
    "ords_prods_merge['orders_day_of_week'].value_counts(dropna = False)"
   ]
  },
  {
   "cell_type": "code",
   "execution_count": 59,
   "id": "b4f754ac",
   "metadata": {},
   "outputs": [
    {
     "name": "stdout",
     "output_type": "stream",
     "text": [
      "Wall time: 12.4 s\n"
     ]
    }
   ],
   "source": [
    "# For-Loops function: categorize ordering days based on their frequency and calculate the operating time\n",
    "\n",
    "%%time\n",
    "\n",
    "result = []\n",
    "\n",
    "for value in ords_prods_merge[\"orders_day_of_week\"]:\n",
    "  if value == 0:\n",
    "    result.append(\"Busiest day\")\n",
    "  elif value == 4:\n",
    "    result.append(\"Least busy\")\n",
    "  else:\n",
    "    result.append(\"Regularly busy\")\n",
    "    \n",
    "ords_prods_merge['busiest_day'] = result  "
   ]
  },
  {
   "cell_type": "code",
   "execution_count": 62,
   "id": "74d77dbd",
   "metadata": {},
   "outputs": [
    {
     "data": {
      "text/plain": [
       "Regularly busy    22413231\n",
       "Busiest day        6203329\n",
       "Least busy         3783172\n",
       "Name: busiest_day, dtype: int64"
      ]
     },
     "execution_count": 62,
     "metadata": {},
     "output_type": "execute_result"
    }
   ],
   "source": [
    "# Check the result of for-loops function\n",
    "ords_prods_merge['busiest_day'].value_counts(dropna = False)"
   ]
  },
  {
   "cell_type": "markdown",
   "id": "e91d6dab",
   "metadata": {},
   "source": [
    "## 04. Answer Questions"
   ]
  },
  {
   "cell_type": "markdown",
   "id": "92fbf245",
   "metadata": {},
   "source": [
    "### (1.) Suppose your clients have changed their minds about the labels you created in your “busiest_day” column. Now, they want “Busiest day” to become “Busiest days” (plural). This label should correspond with the two busiest days of the week as opposed to the single busiest day. At the same time, they’d also like to know the two slowest days. Create a new column for this using a suitable method."
   ]
  },
  {
   "cell_type": "code",
   "execution_count": 63,
   "id": "8a89c9a6",
   "metadata": {},
   "outputs": [],
   "source": [
    "# For-Loops function: categorize ordering days based on their frequency \n",
    "result= []\n",
    "\n",
    "for value in ords_prods_merge['orders_day_of_week']:\n",
    "    if value == 0:\n",
    "        result.append('Busiest days')\n",
    "    elif value == 1:\n",
    "        result.append('Busiest days')\n",
    "    elif value == 3:\n",
    "        result.append('Least busy days')\n",
    "    elif value == 4:\n",
    "        result.append('Least busy days')\n",
    "    else:\n",
    "        result.append('Regularly busy') \n",
    "        \n",
    "ords_prods_merge['busiest_days'] = result"
   ]
  },
  {
   "cell_type": "code",
   "execution_count": 65,
   "id": "180d9338",
   "metadata": {},
   "outputs": [
    {
     "data": {
      "text/plain": [
       "Regularly busy     12914068\n",
       "Busiest days       11862627\n",
       "Least busy days     7623037\n",
       "Name: busiest_days, dtype: int64"
      ]
     },
     "execution_count": 65,
     "metadata": {},
     "output_type": "execute_result"
    }
   ],
   "source": [
    "# Check the result of for-loops function\n",
    "ords_prods_merge['busiest_days'].value_counts(dropna =False)"
   ]
  },
  {
   "cell_type": "code",
   "execution_count": 66,
   "id": "1425da69",
   "metadata": {},
   "outputs": [
    {
     "data": {
      "text/plain": [
       "Index(['order_id', 'user_id', 'order_number', 'orders_day_of_week',\n",
       "       'order_time_of_day', 'days_since_prior_order', 'first_order',\n",
       "       'product_id', 'add_to_cart_order', 'reordered', 'product_name',\n",
       "       'aisle_id', 'department_id', 'prices', 'busiest_day', 'busiest_days'],\n",
       "      dtype='object')"
      ]
     },
     "execution_count": 66,
     "metadata": {},
     "output_type": "execute_result"
    }
   ],
   "source": [
    "ords_prods_merge.columns"
   ]
  },
  {
   "cell_type": "code",
   "execution_count": 67,
   "id": "54849a5a",
   "metadata": {},
   "outputs": [
    {
     "data": {
      "text/plain": [
       "(32399732, 16)"
      ]
     },
     "execution_count": 67,
     "metadata": {},
     "output_type": "execute_result"
    }
   ],
   "source": [
    "ords_prods_merge.shape"
   ]
  },
  {
   "cell_type": "markdown",
   "id": "379c926c",
   "metadata": {},
   "source": [
    "### (2.) Check the values of this new column for accuracy. Note any observations in markdown format."
   ]
  },
  {
   "cell_type": "markdown",
   "id": "10c6cabd",
   "metadata": {},
   "source": [
    "Busiest days = Busiest day + 1 order_day_of_week\n",
    "Least busy days = Least busy day + 3 orders_day_of_week\n",
    "Therefore, the values of this new column are correct."
   ]
  },
  {
   "cell_type": "markdown",
   "id": "bb5e49f9",
   "metadata": {},
   "source": [
    "### (3.) When too many users make Instacart orders at the same time, the app freezes. The senior technical officer at Instacart wants you to identify the busiest hours of the day. Rather than by hour, they want periods of time labeled “Most orders,” “Average orders,” and “Fewest orders.” Create a new column containing these labels called “busiest_period_of_day.”"
   ]
  },
  {
   "cell_type": "code",
   "execution_count": 70,
   "id": "3f5496b5",
   "metadata": {},
   "outputs": [
    {
     "data": {
      "text/plain": [
       "10.0    2761333\n",
       "11.0    2735694\n",
       "14.0    2688728\n",
       "15.0    2661718\n",
       "13.0    2660570\n",
       "12.0    2618104\n",
       "16.0    2534744\n",
       "9.0     2453842\n",
       "17.0    2087273\n",
       "8.0     1717863\n",
       "18.0    1636226\n",
       "19.0    1258076\n",
       "20.0     976000\n",
       "7.0      890923\n",
       "21.0     795528\n",
       "22.0     634159\n",
       "23.0     402272\n",
       "6.0      290450\n",
       "0.0      218742\n",
       "1.0      115683\n",
       "5.0       87944\n",
       "2.0       69360\n",
       "4.0       53232\n",
       "3.0       51268\n",
       "Name: order_time_of_day, dtype: int64"
      ]
     },
     "execution_count": 70,
     "metadata": {},
     "output_type": "execute_result"
    }
   ],
   "source": [
    "# Check the frequency of ordering time\n",
    "ords_prods_merge['order_time_of_day'].value_counts(dropna = False)"
   ]
  },
  {
   "cell_type": "code",
   "execution_count": 71,
   "id": "4dd14674",
   "metadata": {},
   "outputs": [],
   "source": [
    "# For-Loops function: categorize ordering times based on their frequency \n",
    "o_result= []\n",
    "\n",
    "for value in ords_prods_merge['order_time_of_day']:\n",
    "    if  10 <= value <=16:\n",
    "        o_result.append('Most orders') \n",
    "    elif value <=5:\n",
    "        o_result.append('Fewest orders')\n",
    "    else:\n",
    "        o_result.append('Average orders')\n",
    "        \n",
    "ords_prods_merge['busiest_period_of_day'] = o_result"
   ]
  },
  {
   "cell_type": "code",
   "execution_count": 73,
   "id": "006f4053",
   "metadata": {},
   "outputs": [
    {
     "data": {
      "text/plain": [
       "Index(['order_id', 'user_id', 'order_number', 'orders_day_of_week',\n",
       "       'order_time_of_day', 'days_since_prior_order', 'first_order',\n",
       "       'product_id', 'add_to_cart_order', 'reordered', 'product_name',\n",
       "       'aisle_id', 'department_id', 'prices', 'busiest_day', 'busiest_days',\n",
       "       'busiest_period_of_day'],\n",
       "      dtype='object')"
      ]
     },
     "execution_count": 73,
     "metadata": {},
     "output_type": "execute_result"
    }
   ],
   "source": [
    "ords_prods_merge.columns"
   ]
  },
  {
   "cell_type": "code",
   "execution_count": 74,
   "id": "6daec1cd",
   "metadata": {},
   "outputs": [
    {
     "data": {
      "text/plain": [
       "(32399732, 17)"
      ]
     },
     "execution_count": 74,
     "metadata": {},
     "output_type": "execute_result"
    }
   ],
   "source": [
    "ords_prods_merge.shape"
   ]
  },
  {
   "cell_type": "markdown",
   "id": "62d5a85a",
   "metadata": {},
   "source": [
    "### (4.) Print the frequency for this new column."
   ]
  },
  {
   "cell_type": "code",
   "execution_count": 75,
   "id": "29460687",
   "metadata": {},
   "outputs": [
    {
     "data": {
      "text/plain": [
       "Most orders       18660891\n",
       "Average orders    13142612\n",
       "Fewest orders       596229\n",
       "Name: busiest_period_of_day, dtype: int64"
      ]
     },
     "execution_count": 75,
     "metadata": {},
     "output_type": "execute_result"
    }
   ],
   "source": [
    "ords_prods_merge['busiest_period_of_day'].value_counts(dropna = False)"
   ]
  },
  {
   "cell_type": "markdown",
   "id": "87790471",
   "metadata": {},
   "source": [
    "### (5.) Export your dataframe as a pickle file (since you added new columns) and store it correctly in your “Prepared Data” folder."
   ]
  },
  {
   "cell_type": "code",
   "execution_count": 76,
   "id": "0397fa8d",
   "metadata": {},
   "outputs": [],
   "source": [
    "ords_prods_merge.to_pickle(os.path.join(path,'02 Data','Prepared Data','Aftermerge_busiest_dayandtime.pkl'))"
   ]
  }
 ],
 "metadata": {
  "kernelspec": {
   "display_name": "Python 3 (ipykernel)",
   "language": "python",
   "name": "python3"
  },
  "language_info": {
   "codemirror_mode": {
    "name": "ipython",
    "version": 3
   },
   "file_extension": ".py",
   "mimetype": "text/x-python",
   "name": "python",
   "nbconvert_exporter": "python",
   "pygments_lexer": "ipython3",
   "version": "3.9.7"
  }
 },
 "nbformat": 4,
 "nbformat_minor": 5
}
